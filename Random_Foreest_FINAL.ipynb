{
 "cells": [
  {
   "cell_type": "code",
   "execution_count": 37,
   "id": "motivated-hospital",
   "metadata": {},
   "outputs": [],
   "source": [
    "import pandas as pd\n",
    "import numpy as np\n",
    "import matplotlib.pyplot as plt\n",
    "import seaborn as sns \n",
    "from sklearn.impute import KNNImputer\n",
    "pd.set_option(\"display.max_columns\", None)\n",
    "from sklearn.model_selection import train_test_split\n",
    "from sklearn.model_selection import cross_val_score\n",
    "from sklearn.model_selection import cross_val_predict\n",
    "from sklearn.dummy import DummyClassifier\n",
    "from sklearn.model_selection import RandomizedSearchCV\n",
    "from sklearn.model_selection import GridSearchCV\n",
    "from sklearn.metrics import classification_report\n",
    "from sklearn.metrics import plot_confusion_matrix, classification_report\n",
    "from sklearn.ensemble import RandomForestClassifier\n",
    "from sklearn.metrics import accuracy_score\n",
    "from sklearn.metrics import roc_curve\n",
    "from sklearn.metrics import roc_auc_score\n",
    "from pprint import pprint\n",
    "from sklearn.preprocessing import StandardScaler\n",
    "from sklearn.model_selection import RandomizedSearchCV\n",
    "import pickle\n",
    "import xgboost as xgb"
   ]
  },
  {
   "cell_type": "code",
   "execution_count": 38,
   "id": "alpine-seating",
   "metadata": {},
   "outputs": [],
   "source": [
    "df_Org = pd.read_csv('final_project.csv')"
   ]
  },
  {
   "cell_type": "code",
   "execution_count": 39,
   "id": "sustained-poland",
   "metadata": {},
   "outputs": [
    {
     "name": "stdout",
     "output_type": "stream",
     "text": [
      "NA's In Dataset: 1608\n",
      "After NA's Dropped: 0\n",
      "Final Shape of Datframe: (158392, 51)\n"
     ]
    }
   ],
   "source": [
    "# Drop NA Rows\n",
    "print(\"NA's In Dataset:\",df_Org.isnull().sum().sum())\n",
    "\n",
    "df_Org = df_Org.dropna()\n",
    "print(\"After NA's Dropped:\",(df_Org.isnull().sum().sum()))\n",
    "print(\"Final Shape of Datframe:\", df_Org.shape)"
   ]
  },
  {
   "cell_type": "code",
   "execution_count": 40,
   "id": "thrown-reply",
   "metadata": {},
   "outputs": [],
   "source": [
    "df_Final = df_Org.drop(['x37', 'x32', 'x24', 'x29', 'x30'], axis=1)"
   ]
  },
  {
   "cell_type": "code",
   "execution_count": 41,
   "id": "boxed-laundry",
   "metadata": {},
   "outputs": [
    {
     "name": "stdout",
     "output_type": "stream",
     "text": [
      "(158392, 45)\n"
     ]
    },
    {
     "data": {
      "text/plain": [
       "158392"
      ]
     },
     "execution_count": 41,
     "metadata": {},
     "output_type": "execute_result"
    }
   ],
   "source": [
    "# Setup Dataset\n",
    "X = df_Final\n",
    "X = X.drop(['y'], axis=1)\n",
    "y = df_Final['y']\n",
    "y = y.astype('int')\n",
    "print(X.shape)\n",
    "len(y)"
   ]
  },
  {
   "cell_type": "code",
   "execution_count": 42,
   "id": "primary-mills",
   "metadata": {},
   "outputs": [
    {
     "name": "stdout",
     "output_type": "stream",
     "text": [
      "X (158392, 45)\n",
      "X_train (110874, 45)\n",
      "X_test (47518, 45)\n",
      "y_train (110874,)\n",
      "y_test (47518,)\n",
      "Test% 0.3000025253800697\n",
      "Train% 0.6999974746199303\n"
     ]
    }
   ],
   "source": [
    "X_train, X_test, y_train, y_test = train_test_split(X, y, test_size=0.30, random_state=76)\n",
    "print('X', X.shape)\n",
    "print('X_train', X_train.shape)\n",
    "print('X_test', X_test.shape)\n",
    "print('y_train', y_train.shape)\n",
    "print('y_test', y_test.shape)\n",
    "print(\"Test%\", (X_test.shape[0]/X.shape[0]))\n",
    "print(\"Train%\", (X_train.shape[0]/X.shape[0]))"
   ]
  },
  {
   "cell_type": "code",
   "execution_count": 44,
   "id": "electric-medicine",
   "metadata": {},
   "outputs": [],
   "source": [
    "rf = RandomForestClassifier(n_jobs=-1)\n",
    "\n",
    "tuned_parameters = {'n_estimators': [10,50, 100, 300, 500], \n",
    "                    'criterion': ['gini', 'entropy'],\n",
    "                    'max_depth':[5,10,15],\n",
    "                    'min_samples_split':[2,4,9] \n",
    "                   }\n",
    "scores = ['precision', 'recall']"
   ]
  },
  {
   "cell_type": "code",
   "execution_count": 45,
   "id": "short-carnival",
   "metadata": {
    "scrolled": false
   },
   "outputs": [
    {
     "name": "stdout",
     "output_type": "stream",
     "text": [
      "# Tuning hyper-parameters for ********* precision\n",
      "\n",
      "Best parameters set found on development set:\n",
      "\n",
      "{'n_estimators': 300, 'min_samples_split': 4, 'max_depth': 15, 'criterion': 'entropy'}\n",
      "\n",
      "Grid scores on development set:\n",
      "\n",
      "0.777 (+/-0.009) for {'n_estimators': 100, 'min_samples_split': 9, 'max_depth': 5, 'criterion': 'entropy'}\n",
      "0.901 (+/-0.006) for {'n_estimators': 100, 'min_samples_split': 2, 'max_depth': 15, 'criterion': 'gini'}\n",
      "0.903 (+/-0.006) for {'n_estimators': 300, 'min_samples_split': 4, 'max_depth': 15, 'criterion': 'entropy'}\n",
      "0.776 (+/-0.005) for {'n_estimators': 300, 'min_samples_split': 9, 'max_depth': 5, 'criterion': 'gini'}\n",
      "0.883 (+/-0.009) for {'n_estimators': 10, 'min_samples_split': 4, 'max_depth': 15, 'criterion': 'entropy'}\n",
      "0.899 (+/-0.006) for {'n_estimators': 50, 'min_samples_split': 4, 'max_depth': 15, 'criterion': 'entropy'}\n",
      "0.776 (+/-0.011) for {'n_estimators': 50, 'min_samples_split': 4, 'max_depth': 5, 'criterion': 'gini'}\n",
      "0.777 (+/-0.007) for {'n_estimators': 500, 'min_samples_split': 2, 'max_depth': 5, 'criterion': 'gini'}\n",
      "0.760 (+/-0.013) for {'n_estimators': 10, 'min_samples_split': 9, 'max_depth': 5, 'criterion': 'entropy'}\n",
      "0.772 (+/-0.020) for {'n_estimators': 50, 'min_samples_split': 9, 'max_depth': 5, 'criterion': 'entropy'}\n",
      "0.866 (+/-0.007) for {'n_estimators': 50, 'min_samples_split': 2, 'max_depth': 10, 'criterion': 'entropy'}\n",
      "0.901 (+/-0.004) for {'n_estimators': 100, 'min_samples_split': 9, 'max_depth': 15, 'criterion': 'gini'}\n",
      "0.851 (+/-0.017) for {'n_estimators': 10, 'min_samples_split': 4, 'max_depth': 10, 'criterion': 'entropy'}\n",
      "0.872 (+/-0.006) for {'n_estimators': 300, 'min_samples_split': 9, 'max_depth': 10, 'criterion': 'gini'}\n",
      "0.775 (+/-0.002) for {'n_estimators': 500, 'min_samples_split': 4, 'max_depth': 5, 'criterion': 'entropy'}\n",
      "0.776 (+/-0.006) for {'n_estimators': 300, 'min_samples_split': 2, 'max_depth': 5, 'criterion': 'gini'}\n",
      "0.877 (+/-0.008) for {'n_estimators': 10, 'min_samples_split': 2, 'max_depth': 15, 'criterion': 'gini'}\n",
      "0.761 (+/-0.029) for {'n_estimators': 10, 'min_samples_split': 2, 'max_depth': 5, 'criterion': 'entropy'}\n",
      "0.870 (+/-0.005) for {'n_estimators': 50, 'min_samples_split': 9, 'max_depth': 10, 'criterion': 'gini'}\n",
      "0.872 (+/-0.005) for {'n_estimators': 500, 'min_samples_split': 2, 'max_depth': 10, 'criterion': 'gini'}\n",
      "0.879 (+/-0.008) for {'n_estimators': 10, 'min_samples_split': 9, 'max_depth': 15, 'criterion': 'gini'}\n",
      "0.779 (+/-0.005) for {'n_estimators': 300, 'min_samples_split': 4, 'max_depth': 5, 'criterion': 'gini'}\n",
      "0.872 (+/-0.005) for {'n_estimators': 500, 'min_samples_split': 9, 'max_depth': 10, 'criterion': 'gini'}\n",
      "0.902 (+/-0.006) for {'n_estimators': 300, 'min_samples_split': 2, 'max_depth': 15, 'criterion': 'gini'}\n",
      "0.774 (+/-0.005) for {'n_estimators': 500, 'min_samples_split': 9, 'max_depth': 5, 'criterion': 'entropy'}\n",
      "0.902 (+/-0.006) for {'n_estimators': 100, 'min_samples_split': 9, 'max_depth': 15, 'criterion': 'entropy'}\n",
      "0.773 (+/-0.017) for {'n_estimators': 100, 'min_samples_split': 4, 'max_depth': 5, 'criterion': 'gini'}\n",
      "0.872 (+/-0.004) for {'n_estimators': 500, 'min_samples_split': 4, 'max_depth': 10, 'criterion': 'gini'}\n",
      "0.902 (+/-0.006) for {'n_estimators': 500, 'min_samples_split': 4, 'max_depth': 15, 'criterion': 'gini'}\n",
      "0.898 (+/-0.006) for {'n_estimators': 50, 'min_samples_split': 4, 'max_depth': 15, 'criterion': 'gini'}\n",
      "\n",
      "Detailed classification report:\n",
      "\n",
      "The model is trained on the full development set.\n",
      "The scores are computed on the full evaluation set.\n",
      "\n",
      "\n",
      "# Tuning hyper-parameters for ********* recall\n",
      "\n",
      "Best parameters set found on development set:\n",
      "\n",
      "{'n_estimators': 500, 'min_samples_split': 2, 'max_depth': 15, 'criterion': 'entropy'}\n",
      "\n",
      "Grid scores on development set:\n",
      "\n",
      "0.887 (+/-0.008) for {'n_estimators': 300, 'min_samples_split': 2, 'max_depth': 15, 'criterion': 'entropy'}\n",
      "0.884 (+/-0.007) for {'n_estimators': 50, 'min_samples_split': 2, 'max_depth': 15, 'criterion': 'entropy'}\n",
      "0.704 (+/-0.005) for {'n_estimators': 500, 'min_samples_split': 4, 'max_depth': 5, 'criterion': 'gini'}\n",
      "0.700 (+/-0.007) for {'n_estimators': 300, 'min_samples_split': 9, 'max_depth': 5, 'criterion': 'entropy'}\n",
      "0.843 (+/-0.009) for {'n_estimators': 300, 'min_samples_split': 4, 'max_depth': 10, 'criterion': 'gini'}\n",
      "0.702 (+/-0.009) for {'n_estimators': 500, 'min_samples_split': 2, 'max_depth': 5, 'criterion': 'entropy'}\n",
      "0.883 (+/-0.008) for {'n_estimators': 50, 'min_samples_split': 4, 'max_depth': 15, 'criterion': 'gini'}\n",
      "0.887 (+/-0.009) for {'n_estimators': 300, 'min_samples_split': 9, 'max_depth': 15, 'criterion': 'entropy'}\n",
      "0.844 (+/-0.010) for {'n_estimators': 300, 'min_samples_split': 9, 'max_depth': 10, 'criterion': 'gini'}\n",
      "0.704 (+/-0.009) for {'n_estimators': 300, 'min_samples_split': 9, 'max_depth': 5, 'criterion': 'gini'}\n",
      "0.842 (+/-0.009) for {'n_estimators': 100, 'min_samples_split': 9, 'max_depth': 10, 'criterion': 'entropy'}\n",
      "0.839 (+/-0.008) for {'n_estimators': 50, 'min_samples_split': 4, 'max_depth': 10, 'criterion': 'entropy'}\n",
      "0.840 (+/-0.011) for {'n_estimators': 50, 'min_samples_split': 9, 'max_depth': 10, 'criterion': 'gini'}\n",
      "0.699 (+/-0.017) for {'n_estimators': 10, 'min_samples_split': 9, 'max_depth': 5, 'criterion': 'gini'}\n",
      "0.886 (+/-0.008) for {'n_estimators': 100, 'min_samples_split': 9, 'max_depth': 15, 'criterion': 'gini'}\n",
      "0.701 (+/-0.005) for {'n_estimators': 300, 'min_samples_split': 2, 'max_depth': 5, 'criterion': 'entropy'}\n",
      "0.886 (+/-0.007) for {'n_estimators': 500, 'min_samples_split': 4, 'max_depth': 15, 'criterion': 'gini'}\n",
      "0.886 (+/-0.007) for {'n_estimators': 300, 'min_samples_split': 2, 'max_depth': 15, 'criterion': 'gini'}\n",
      "0.822 (+/-0.016) for {'n_estimators': 10, 'min_samples_split': 4, 'max_depth': 10, 'criterion': 'entropy'}\n",
      "0.702 (+/-0.007) for {'n_estimators': 300, 'min_samples_split': 4, 'max_depth': 5, 'criterion': 'entropy'}\n",
      "0.884 (+/-0.007) for {'n_estimators': 50, 'min_samples_split': 9, 'max_depth': 15, 'criterion': 'gini'}\n",
      "0.706 (+/-0.009) for {'n_estimators': 300, 'min_samples_split': 4, 'max_depth': 5, 'criterion': 'gini'}\n",
      "0.705 (+/-0.019) for {'n_estimators': 10, 'min_samples_split': 4, 'max_depth': 5, 'criterion': 'gini'}\n",
      "0.703 (+/-0.022) for {'n_estimators': 10, 'min_samples_split': 9, 'max_depth': 5, 'criterion': 'entropy'}\n",
      "0.825 (+/-0.012) for {'n_estimators': 10, 'min_samples_split': 9, 'max_depth': 10, 'criterion': 'entropy'}\n",
      "0.824 (+/-0.020) for {'n_estimators': 10, 'min_samples_split': 2, 'max_depth': 10, 'criterion': 'entropy'}\n",
      "0.705 (+/-0.007) for {'n_estimators': 500, 'min_samples_split': 2, 'max_depth': 5, 'criterion': 'gini'}\n",
      "0.843 (+/-0.009) for {'n_estimators': 300, 'min_samples_split': 9, 'max_depth': 10, 'criterion': 'entropy'}\n",
      "0.702 (+/-0.006) for {'n_estimators': 500, 'min_samples_split': 4, 'max_depth': 5, 'criterion': 'entropy'}\n",
      "0.888 (+/-0.008) for {'n_estimators': 500, 'min_samples_split': 2, 'max_depth': 15, 'criterion': 'entropy'}\n",
      "\n",
      "Detailed classification report:\n",
      "\n",
      "The model is trained on the full development set.\n",
      "The scores are computed on the full evaluation set.\n",
      "\n",
      "\n",
      "CPU times: user 5h 36min 56s, sys: 43.6 s, total: 5h 37min 40s\n",
      "Wall time: 5h 37min 41s\n"
     ]
    }
   ],
   "source": [
    "%%time\n",
    "for score in scores:\n",
    "    print(\"# Tuning hyper-parameters for ********* %s\" % score)\n",
    "    print()\n",
    "\n",
    "    clf = RandomizedSearchCV(RandomForestClassifier(), tuned_parameters, cv=5, n_iter=30, scoring='%s_macro' % score\n",
    "    )\n",
    "    clf.fit(X_train, y_train)\n",
    "\n",
    "    print(\"Best parameters set found on development set:\")\n",
    "    print()\n",
    "    print(clf.best_params_)\n",
    "    print()\n",
    "    print(\"Grid scores on development set:\")\n",
    "    print()\n",
    "    means = clf.cv_results_['mean_test_score']\n",
    "    stds = clf.cv_results_['std_test_score']\n",
    "    for mean, std, params in zip(means, stds, clf.cv_results_['params']):\n",
    "        print(\"%0.3f (+/-%0.03f) for %r\"\n",
    "              % (mean, std * 2, params))\n",
    "    print()\n",
    "\n",
    "    print(\"Detailed classification report:\")\n",
    "    print()\n",
    "    print(\"The model is trained on the full development set.\")\n",
    "    print(\"The scores are computed on the full evaluation set.\")\n",
    "    print()\n",
    "#     y_true, y_pred = y_test, clf.predict(X_test) # NEed to Add Back \n",
    "#     print(classification_report(y_true, y_pred)) # NEed to Add Back\n",
    "    print()"
   ]
  },
  {
   "cell_type": "code",
   "execution_count": 46,
   "id": "usual-adapter",
   "metadata": {},
   "outputs": [
    {
     "name": "stdout",
     "output_type": "stream",
     "text": [
      "{'n_estimators': 500, 'min_samples_split': 2, 'max_depth': 15, 'criterion': 'entropy'}\n"
     ]
    }
   ],
   "source": [
    "best_params = clf.best_params_\n",
    "print(best_params)"
   ]
  },
  {
   "cell_type": "code",
   "execution_count": 47,
   "id": "changed-stephen",
   "metadata": {},
   "outputs": [],
   "source": [
    "best_forest = RandomForestClassifier(**best_params)"
   ]
  },
  {
   "cell_type": "code",
   "execution_count": 48,
   "id": "contemporary-edmonton",
   "metadata": {},
   "outputs": [
    {
     "name": "stdout",
     "output_type": "stream",
     "text": [
      "Fitting our model to the train set\n",
      "Creating predicted variables to compare against y_test\n",
      "              precision    recall  f1-score   support\n",
      "\n",
      "           0       0.89      0.95      0.92     28497\n",
      "           1       0.92      0.83      0.87     19021\n",
      "\n",
      "    accuracy                           0.90     47518\n",
      "   macro avg       0.91      0.89      0.90     47518\n",
      "weighted avg       0.90      0.90      0.90     47518\n",
      "\n",
      "CPU times: user 5min 44s, sys: 740 ms, total: 5min 45s\n",
      "Wall time: 5min 45s\n"
     ]
    },
    {
     "data": {
      "text/plain": [
       "[Text(0, 0.5, 'No'), Text(0, 1.5, 'Yes')]"
      ]
     },
     "execution_count": 48,
     "metadata": {},
     "output_type": "execute_result"
    },
    {
     "data": {
      "image/png": "[encoded data removed]",
      "text/plain": [
       "<Figure size 432x288 with 2 Axes>"
      ]
     },
     "metadata": {
      "needs_background": "light"
     },
     "output_type": "display_data"
    }
   ],
   "source": [
    "%%time\n",
    "from sklearn.metrics import confusion_matrix\n",
    "import seaborn as sns \n",
    "\n",
    "print(\"Fitting our model to the train set\")\n",
    "fit_forest = best_forest.fit(X_train, y_train)\n",
    "print(\"Creating predicted variables to compare against y_test\")\n",
    "\n",
    "y_pred = fit_forest.predict(X_test)\n",
    "# making classification report and confusion matrix\n",
    "print(classification_report(y_test, y_pred))\n",
    "\n",
    "ax= plt.subplot()\n",
    "\n",
    "cm = confusion_matrix(y_test, y_pred)\n",
    "sns.heatmap(cm, cmap=\"Blues\", annot=True, fmt='d', ) # for decimal\n",
    "\n",
    "ax.set_xlabel('Predicted labels');ax.set_ylabel('True labels'); \n",
    "ax.set_title('Confusion Matrix'); \n",
    "ax.xaxis.set_ticklabels(['No ', 'Yes']); ax.yaxis.set_ticklabels(['No', 'Yes']);"
   ]
  },
  {
   "cell_type": "code",
   "execution_count": null,
   "id": "relative-stability",
   "metadata": {},
   "outputs": [],
   "source": []
  }
 ],
 "metadata": {
  "kernelspec": {
   "display_name": "Python 3",
   "language": "python",
   "name": "python3"
  },
  "language_info": {
   "codemirror_mode": {
    "name": "ipython",
    "version": 3
   },
   "file_extension": ".py",
   "mimetype": "text/x-python",
   "name": "python",
   "nbconvert_exporter": "python",
   "pygments_lexer": "ipython3",
   "version": "3.9.2"
  }
 },
 "nbformat": 4,
 "nbformat_minor": 5
}

{
 "cells": [
  {
   "cell_type": "markdown",
   "id": "regulated-ceiling",
   "metadata": {},
   "source": [
    "# Quantifying the World - Fall 2021\n",
    "## Case Study 5 | Firewall Rule Data\n",
    "## Grant Bourzikas"
   ]
  },
  {
   "cell_type": "code",
   "execution_count": null,
   "id": "quarterly-mexico",
   "metadata": {},
   "outputs": [],
   "source": []
  },
  {
   "cell_type": "markdown",
   "id": "balanced-princeton",
   "metadata": {},
   "source": [
    "## Abstract\n",
    "The problem that has been brought to our data science team comes from cybersecurity community.  The data was collected from large organization, and they want to automate the creation of firewall rulesets. To classify the firewall rules, we will determine if they should be allowed, denied, dropped, or reset thus speeding up business and decreasing complexity in their environment\n",
    "\n",
    "After reviewing the results of the algorithms, the clear winner was the SVC algorithm with 99.8.% accuracy because it did not introduce any risk to the organization and only had 28 false negatives.  While the model did take more time to run, the accuracy and protection of the organization was Top Notch. \n"
   ]
  },
  {
   "cell_type": "markdown",
   "id": "dental-geology",
   "metadata": {},
   "source": [
    "# Introduction\n",
    "The problem that has been brought to our data science team comes from cybersecurity community.  The data was collected from large organization, and they want to automate the creation of firewall rulesets. To classify the firewall rules, we will determine if they should be allowed, denied, dropped, or reset thus speeding up business and decreasing complexity in their environment\n",
    "\n",
    "The goal of the study is to develop and use Support Vector Machine (SVM) and Stochastic gradient descent (SGD) machine learning models. GridSearch and Randomized Search were not leveraged due to the data set size and the time it take to run multiple options (we did attempt but this did fail), but rather we leveraged our own python code to manipulate the various parameters in the algorithms to get an optimal score.   The “Action” feature is the independent variable (y) that will be used predict the whether the firewall traffic should be allowed, denied, dropped, or reset. One data files was received that contained the Firewall data which included over 65,532 records with 12 features.\n"
   ]
  },
  {
   "cell_type": "code",
   "execution_count": 57,
   "id": "advance-turner",
   "metadata": {},
   "outputs": [
    {
     "name": "stdout",
     "output_type": "stream",
     "text": [
      "Firewall Dataset - Rows: 65532 Columns/Features 12\n"
     ]
    }
   ],
   "source": [
    "print(\"Firewall Dataset - Rows:\", fw.shape[0], \"Columns/Features\", fw.shape[1])"
   ]
  },
  {
   "cell_type": "markdown",
   "id": "whole-governor",
   "metadata": {},
   "source": [
    "# Exploratory Data Analysis\n",
    "After analyzing the data, it was discovered that that was a multiclass prediction specifically on the Action field.  \n"
   ]
  },
  {
   "cell_type": "code",
   "execution_count": 70,
   "id": "early-nowhere",
   "metadata": {},
   "outputs": [
    {
     "data": {
      "text/html": [
       "<div>\n",
       "<style scoped>\n",
       "    .dataframe tbody tr th:only-of-type {\n",
       "        vertical-align: middle;\n",
       "    }\n",
       "\n",
       "    .dataframe tbody tr th {\n",
       "        vertical-align: top;\n",
       "    }\n",
       "\n",
       "    .dataframe thead th {\n",
       "        text-align: right;\n",
       "    }\n",
       "</style>\n",
       "<table border=\"1\" class=\"dataframe\">\n",
       "  <thead>\n",
       "    <tr style=\"text-align: right;\">\n",
       "      <th></th>\n",
       "      <th>Action</th>\n",
       "    </tr>\n",
       "  </thead>\n",
       "  <tbody>\n",
       "    <tr>\n",
       "      <th>allow</th>\n",
       "      <td>37640</td>\n",
       "    </tr>\n",
       "    <tr>\n",
       "      <th>deny</th>\n",
       "      <td>14987</td>\n",
       "    </tr>\n",
       "    <tr>\n",
       "      <th>drop</th>\n",
       "      <td>12851</td>\n",
       "    </tr>\n",
       "    <tr>\n",
       "      <th>reset-both</th>\n",
       "      <td>54</td>\n",
       "    </tr>\n",
       "  </tbody>\n",
       "</table>\n",
       "</div>"
      ],
      "text/plain": [
       "            Action\n",
       "allow        37640\n",
       "deny         14987\n",
       "drop         12851\n",
       "reset-both      54"
      ]
     },
     "execution_count": 70,
     "metadata": {},
     "output_type": "execute_result"
    }
   ],
   "source": [
    "fw_DF.Action.value_counts().to_frame()"
   ]
  },
  {
   "cell_type": "markdown",
   "id": "dress-hepatitis",
   "metadata": {},
   "source": [
    "After reviewing the data, certain data that appeared numeric, was categorical.  All of the port features, Source Port, Destination Port, Nat Source Port, and Nat Destination Port, represent a service that resides on an operating system and is not a number.  This data was one hot endcoded which changed the shape of the datset to 65,532 records with 57,686 features."
   ]
  },
  {
   "cell_type": "code",
   "execution_count": 71,
   "id": "robust-experience",
   "metadata": {},
   "outputs": [
    {
     "name": "stdout",
     "output_type": "stream",
     "text": [
      "Firewall Dataset - Rows: 65532 Columns/Features 57686\n"
     ]
    }
   ],
   "source": [
    "print(\"Firewall Dataset - Rows:\", fw_DF.shape[0], \"Columns/Features\", fw_DF.shape[1])"
   ]
  },
  {
   "cell_type": "markdown",
   "id": "serious-change",
   "metadata": {},
   "source": [
    "# Model Overview\n",
    "After the exploratory data analysis was performed and one hot encoding was used, we develop and optimized the following three algorithms; however, because of the size of the data, we used a 80% train test split because of the time the model take to fit:\n",
    "##### Model 1 – SVC with Optimized C\n",
    "##### Model 2 - SGD Basic\n",
    "##### Model 3 – SGD with Optimized Loss and Regularization\n"
   ]
  },
  {
   "cell_type": "markdown",
   "id": "ongoing-paradise",
   "metadata": {},
   "source": [
    "## Results\n",
    "### Model 1 – SVC with Optimized C\n",
    "For the SVC model, multiple attempts were made to optimize the regularization parameter, C, and it was determined the best value was C = 1. While we did attempt to run randomized search, the models were stopped after running for over 24 hours.   As opposed to running with C=1, this model took 32 minutes to fit and 5 hours to score but the model was 99.8% accurate.\n",
    "\n"
   ]
  },
  {
   "cell_type": "code",
   "execution_count": 72,
   "id": "noted-cylinder",
   "metadata": {},
   "outputs": [
    {
     "name": "stdout",
     "output_type": "stream",
     "text": [
      "The following is the Accuracy from the SVC Model 99.8%\n"
     ]
    }
   ],
   "source": [
    "print(f\"The following is the Accuracy from the SVC Model {result_ACC:.1%}\")"
   ]
  },
  {
   "cell_type": "markdown",
   "id": "indian-passion",
   "metadata": {},
   "source": [
    "Reviewing the Confusion Matrix below, the key items are as follow:\n",
    "- 30,106 - True Positive (TP): These are cases in which we predicted Allow and were Allow\n",
    "- 22,292 - True Negative (TN): We predicted they were not Allow (deny, drop, reset), and they weren’t Allow.\n",
    "- 0 - False Positive (FP): We predicted Allow and they were not Allow. (Type I error)\n",
    "- 28 - False Negatives (FN): We predicted Not Allow, but they are Allow. (Type II error)\n",
    "\n",
    "This means that the prediction did not work on only the 28 False Negatives which resulted in the 99.8% accuracy score.  In this scenario, we built a machine learning algorithm that was accurate and did not compromise any security of the organization (False Positives).  The only issue were the 28 connections we recommend Not Allowing but should have been Allowed (False Negatives).  However, this is reasonable and is a very strong model and is an easy fix to address.\n",
    "\n"
   ]
  },
  {
   "cell_type": "code",
   "execution_count": 73,
   "id": "fluid-combine",
   "metadata": {},
   "outputs": [
    {
     "data": {
      "image/png": "[encoded data removed]",
      "text/plain": [
       "<Figure size 432x288 with 2 Axes>"
      ]
     },
     "metadata": {
      "needs_background": "light"
     },
     "output_type": "display_data"
    }
   ],
   "source": [
    "ax= plt.subplot()\n",
    "\n",
    "cm_Result = confusion_matrix(y_test, preds)\n",
    "sns.heatmap(cm_Result, cmap=\"Blues\", annot=True, fmt='d', ax=ax) # for decimal\n",
    "\n",
    "# labels, title and ticks\n",
    "ax.set_xlabel('Predicted labels');ax.set_ylabel('True labels'); \n",
    "ax.set_title('Confusion Matrix'); \n",
    "ax.xaxis.set_ticklabels(['allow', 'deny', 'drop', 'reset-both']); ax.yaxis.set_ticklabels(['allow', 'deny', 'drop', 'reset-both']);\n"
   ]
  },
  {
   "cell_type": "markdown",
   "id": "modular-practitioner",
   "metadata": {},
   "source": [
    "# Model 2 – SGD with Logistic Regression \n",
    "For the SGD model we used the loss logistic regression function (which uses logistic regression) and it took a little over 2 minutes to complete but had a 57.4% accuracy rate. While we built a confusion matrix to review the mistakes, the score didn’t warrant an explanation of the confusion matrix because the model results were poor.\n"
   ]
  },
  {
   "cell_type": "code",
   "execution_count": 74,
   "id": "hispanic-vietnam",
   "metadata": {},
   "outputs": [
    {
     "name": "stdout",
     "output_type": "stream",
     "text": [
      "SGD with Logistic Regression 57.4%\n"
     ]
    }
   ],
   "source": [
    "print(f\"SGD with Logistic Regression {clf_Score:.1%}\")"
   ]
  },
  {
   "cell_type": "markdown",
   "id": "treated-adapter",
   "metadata": {},
   "source": [
    "# Model 3 – SGD with Optimized Loss and Regularization\n",
    "For the SGD model with Optimized Loss and Regularization, we tested the Log, Hinge, Modified Huber, Squared Hinge, and Perception loss functions using different Alpha values, 1E-3,1E-2, 1E-1, 1E+0 and 1E+1.  The top 5 Models were:\n"
   ]
  },
  {
   "cell_type": "code",
   "execution_count": 75,
   "id": "healthy-skating",
   "metadata": {},
   "outputs": [
    {
     "data": {
      "text/html": [
       "<style type=\"text/css\">\n",
       "</style>\n",
       "<table id=\"T_239cb_\">\n",
       "  <thead>\n",
       "    <tr>\n",
       "      <th class=\"col_heading level0 col0\" >Loss</th>\n",
       "      <th class=\"col_heading level0 col1\" >Alpha</th>\n",
       "      <th class=\"col_heading level0 col2\" >Model_Fit</th>\n",
       "      <th class=\"col_heading level0 col3\" >Score</th>\n",
       "    </tr>\n",
       "  </thead>\n",
       "  <tbody>\n",
       "    <tr>\n",
       "      <td id=\"T_239cb_row0_col0\" class=\"data row0 col0\" >hinge</td>\n",
       "      <td id=\"T_239cb_row0_col1\" class=\"data row0 col1\" >0.001000</td>\n",
       "      <td id=\"T_239cb_row0_col2\" class=\"data row0 col2\" >SGDClassifier(alpha=0.001)</td>\n",
       "      <td id=\"T_239cb_row0_col3\" class=\"data row0 col3\" >0.990062</td>\n",
       "    </tr>\n",
       "    <tr>\n",
       "      <td id=\"T_239cb_row1_col0\" class=\"data row1 col0\" >perceptron</td>\n",
       "      <td id=\"T_239cb_row1_col1\" class=\"data row1 col1\" >0.001000</td>\n",
       "      <td id=\"T_239cb_row1_col2\" class=\"data row1 col2\" >SGDClassifier(alpha=0.001, loss='perceptron')</td>\n",
       "      <td id=\"T_239cb_row1_col3\" class=\"data row1 col3\" >0.975623</td>\n",
       "    </tr>\n",
       "    <tr>\n",
       "      <td id=\"T_239cb_row2_col0\" class=\"data row2 col0\" >log</td>\n",
       "      <td id=\"T_239cb_row2_col1\" class=\"data row2 col1\" >0.010000</td>\n",
       "      <td id=\"T_239cb_row2_col2\" class=\"data row2 col2\" >SGDClassifier(alpha=0.01, loss='log')</td>\n",
       "      <td id=\"T_239cb_row2_col3\" class=\"data row2 col3\" >0.974497</td>\n",
       "    </tr>\n",
       "    <tr>\n",
       "      <td id=\"T_239cb_row3_col0\" class=\"data row3 col0\" >squared_hinge</td>\n",
       "      <td id=\"T_239cb_row3_col1\" class=\"data row3 col1\" >0.001000</td>\n",
       "      <td id=\"T_239cb_row3_col2\" class=\"data row3 col2\" >SGDClassifier(alpha=0.001, loss='squared_hinge')</td>\n",
       "      <td id=\"T_239cb_row3_col3\" class=\"data row3 col3\" >0.971236</td>\n",
       "    </tr>\n",
       "    <tr>\n",
       "      <td id=\"T_239cb_row4_col0\" class=\"data row4 col0\" >hinge</td>\n",
       "      <td id=\"T_239cb_row4_col1\" class=\"data row4 col1\" >0.100000</td>\n",
       "      <td id=\"T_239cb_row4_col2\" class=\"data row4 col2\" >SGDClassifier(alpha=0.1)</td>\n",
       "      <td id=\"T_239cb_row4_col3\" class=\"data row4 col3\" >0.957597</td>\n",
       "    </tr>\n",
       "    <tr>\n",
       "      <td id=\"T_239cb_row5_col0\" class=\"data row5 col0\" >hinge</td>\n",
       "      <td id=\"T_239cb_row5_col1\" class=\"data row5 col1\" >0.010000</td>\n",
       "      <td id=\"T_239cb_row5_col2\" class=\"data row5 col2\" >SGDClassifier(alpha=0.01)</td>\n",
       "      <td id=\"T_239cb_row5_col3\" class=\"data row5 col3\" >0.943311</td>\n",
       "    </tr>\n",
       "    <tr>\n",
       "      <td id=\"T_239cb_row6_col0\" class=\"data row6 col0\" >log</td>\n",
       "      <td id=\"T_239cb_row6_col1\" class=\"data row6 col1\" >0.001000</td>\n",
       "      <td id=\"T_239cb_row6_col2\" class=\"data row6 col2\" >SGDClassifier(alpha=0.001, loss='log')</td>\n",
       "      <td id=\"T_239cb_row6_col3\" class=\"data row6 col3\" >0.938885</td>\n",
       "    </tr>\n",
       "    <tr>\n",
       "      <td id=\"T_239cb_row7_col0\" class=\"data row7 col0\" >modified_huber</td>\n",
       "      <td id=\"T_239cb_row7_col1\" class=\"data row7 col1\" >0.001000</td>\n",
       "      <td id=\"T_239cb_row7_col2\" class=\"data row7 col2\" >SGDClassifier(alpha=0.001, loss='modified_huber')</td>\n",
       "      <td id=\"T_239cb_row7_col3\" class=\"data row7 col3\" >0.869759</td>\n",
       "    </tr>\n",
       "  </tbody>\n",
       "</table>\n"
      ],
      "text/plain": [
       "<pandas.io.formats.style.Styler at 0x1962f6ee0>"
      ]
     },
     "execution_count": 75,
     "metadata": {},
     "output_type": "execute_result"
    }
   ],
   "source": [
    "result_90.style.hide_index()"
   ]
  },
  {
   "cell_type": "markdown",
   "id": "interesting-banking",
   "metadata": {},
   "source": [
    "As noted above, the best performing model, scoring at 98.8% was leveraging the perception loss function with an Alpha of 1.0 which uses the perception algorithm which is one of the models heavily used in autonomous driving.  The second top performing model used Hinge and the third top model used Squared Hinge resulting in a 97.5% and 97.4% accuracy score respectively."
   ]
  },
  {
   "cell_type": "markdown",
   "id": "duplicate-situation",
   "metadata": {},
   "source": [
    "### Conclusion\n",
    "After reviewing the results of the algorithms, the clear winner was the SVC with 99.8.% accuracy because it did not introduce any risk to the organization and only had 28 false negatives.  While the model did take more time to run, the accuracy and protection of the organization was Top Notch. \n"
   ]
  },
  {
   "cell_type": "code",
   "execution_count": null,
   "id": "cosmetic-vitamin",
   "metadata": {},
   "outputs": [],
   "source": []
  },
  {
   "cell_type": "code",
   "execution_count": null,
   "id": "middle-release",
   "metadata": {},
   "outputs": [],
   "source": []
  },
  {
   "cell_type": "code",
   "execution_count": null,
   "id": "radio-latex",
   "metadata": {},
   "outputs": [],
   "source": []
  },
  {
   "cell_type": "code",
   "execution_count": 2,
   "id": "recovered-construction",
   "metadata": {},
   "outputs": [],
   "source": [
    "############### Begin Code###############"
   ]
  },
  {
   "cell_type": "code",
   "execution_count": 60,
   "id": "electrical-letter",
   "metadata": {},
   "outputs": [
    {
     "data": {
      "text/html": [
       "<style>.container { width:95% !important; }</style>"
      ],
      "text/plain": [
       "<IPython.core.display.HTML object>"
      ]
     },
     "metadata": {},
     "output_type": "display_data"
    }
   ],
   "source": [
    "import numpy as np \n",
    "import pandas as pd \n",
    "from sklearn.model_selection import train_test_split\n",
    "from sklearn.preprocessing import StandardScaler\n",
    "from sklearn.model_selection import cross_val_score\n",
    "from sklearn.metrics import confusion_matrix\n",
    "import seaborn as sns \n",
    "import altair as alt\n",
    "from sklearn.metrics import classification_report, plot_confusion_matrix\n",
    "from tqdm import tqdm\n",
    "from sklearn.svm import SVC\n",
    "from sklearn.metrics import accuracy_score\n",
    "from sklearn.model_selection import cross_val_score\n",
    "import matplotlib.pyplot as plt\n",
    "from sklearn.metrics import roc_auc_score\n",
    "from sklearn.model_selection import RandomizedSearchCV\n",
    "from sklearn.linear_model import SGDClassifier\n",
    "\n",
    "pd.set_option('display.max_colwidth', None)\n",
    "from IPython.core.display import display, HTML\n",
    "display(HTML(\"<style>.container { width:95% !important; }</style>\"))\n",
    "from sklearn.preprocessing import OneHotEncoder\n",
    "from IPython.core.interactiveshell import InteractiveShell\n",
    "InteractiveShell.ast_node_interactivity = \"all\"\n",
    "import warnings\n",
    "warnings.filterwarnings(\"ignore\")\n",
    "\n",
    "# pd.set_option(\"display.max_rows\", None, \"display.max_columns\", None)"
   ]
  },
  {
   "cell_type": "code",
   "execution_count": 61,
   "id": "eleven-target",
   "metadata": {},
   "outputs": [
    {
     "name": "stdout",
     "output_type": "stream",
     "text": [
      "FW: 65532 Columns/Features 65532\n",
      "(65532, 12)\n"
     ]
    }
   ],
   "source": [
    "fw = pd.read_csv('log2.csv')  \n",
    "print(\"FW:\", fw.shape[0], \"Columns/Features\", fw.shape[0])\n",
    "print(fw.shape)"
   ]
  },
  {
   "cell_type": "code",
   "execution_count": 62,
   "id": "macro-baker",
   "metadata": {},
   "outputs": [
    {
     "name": "stdout",
     "output_type": "stream",
     "text": [
      "Firewall Dataset - Rows: 65532 Columns/Features 12\n"
     ]
    }
   ],
   "source": [
    "print(\"Firewall Dataset - Rows:\", fw.shape[0], \"Columns/Features\", fw.shape[1])"
   ]
  },
  {
   "cell_type": "code",
   "execution_count": 63,
   "id": "continental-product",
   "metadata": {},
   "outputs": [],
   "source": [
    "fw.columns = fw.columns.str.replace(' ', '')\n",
    "fw_Catagorical = ['SourcePort', 'DestinationPort', 'NATSourcePort', 'NATDestinationPort']\n",
    "fw[fw_Catagorical] = fw[fw_Catagorical].astype('category')"
   ]
  },
  {
   "cell_type": "code",
   "execution_count": 64,
   "id": "dominant-repair",
   "metadata": {},
   "outputs": [
    {
     "data": {
      "text/plain": [
       "SourcePort            category\n",
       "DestinationPort       category\n",
       "NATSourcePort         category\n",
       "NATDestinationPort    category\n",
       "Action                  object\n",
       "Bytes                    int64\n",
       "BytesSent                int64\n",
       "BytesReceived            int64\n",
       "Packets                  int64\n",
       "ElapsedTime(sec)         int64\n",
       "pkts_sent                int64\n",
       "pkts_received            int64\n",
       "dtype: object"
      ]
     },
     "execution_count": 64,
     "metadata": {},
     "output_type": "execute_result"
    }
   ],
   "source": [
    "fw.dtypes"
   ]
  },
  {
   "cell_type": "code",
   "execution_count": 65,
   "id": "intensive-miracle",
   "metadata": {},
   "outputs": [],
   "source": [
    "fw_Cat = fw[fw_Catagorical]\n",
    "fw_Cat = pd.get_dummies(fw_Cat, drop_first=True, sparse=True) # This has all the dummies\n"
   ]
  },
  {
   "cell_type": "code",
   "execution_count": 66,
   "id": "governmental-sherman",
   "metadata": {},
   "outputs": [
    {
     "data": {
      "text/html": [
       "<div>\n",
       "<style scoped>\n",
       "    .dataframe tbody tr th:only-of-type {\n",
       "        vertical-align: middle;\n",
       "    }\n",
       "\n",
       "    .dataframe tbody tr th {\n",
       "        vertical-align: top;\n",
       "    }\n",
       "\n",
       "    .dataframe thead th {\n",
       "        text-align: right;\n",
       "    }\n",
       "</style>\n",
       "<table border=\"1\" class=\"dataframe\">\n",
       "  <thead>\n",
       "    <tr style=\"text-align: right;\">\n",
       "      <th></th>\n",
       "      <th>SourcePort_5</th>\n",
       "      <th>SourcePort_20</th>\n",
       "      <th>SourcePort_22</th>\n",
       "      <th>SourcePort_25</th>\n",
       "      <th>SourcePort_50</th>\n",
       "      <th>SourcePort_67</th>\n",
       "      <th>SourcePort_68</th>\n",
       "      <th>SourcePort_80</th>\n",
       "      <th>SourcePort_123</th>\n",
       "      <th>SourcePort_137</th>\n",
       "      <th>...</th>\n",
       "      <th>NATDestinationPort_64932</th>\n",
       "      <th>NATDestinationPort_65054</th>\n",
       "      <th>NATDestinationPort_65100</th>\n",
       "      <th>NATDestinationPort_65128</th>\n",
       "      <th>NATDestinationPort_65253</th>\n",
       "      <th>NATDestinationPort_65264</th>\n",
       "      <th>NATDestinationPort_65387</th>\n",
       "      <th>NATDestinationPort_65427</th>\n",
       "      <th>NATDestinationPort_65534</th>\n",
       "      <th>NATDestinationPort_65535</th>\n",
       "    </tr>\n",
       "  </thead>\n",
       "  <tbody>\n",
       "    <tr>\n",
       "      <th>0</th>\n",
       "      <td>0</td>\n",
       "      <td>0</td>\n",
       "      <td>0</td>\n",
       "      <td>0</td>\n",
       "      <td>0</td>\n",
       "      <td>0</td>\n",
       "      <td>0</td>\n",
       "      <td>0</td>\n",
       "      <td>0</td>\n",
       "      <td>0</td>\n",
       "      <td>...</td>\n",
       "      <td>0</td>\n",
       "      <td>0</td>\n",
       "      <td>0</td>\n",
       "      <td>0</td>\n",
       "      <td>0</td>\n",
       "      <td>0</td>\n",
       "      <td>0</td>\n",
       "      <td>0</td>\n",
       "      <td>0</td>\n",
       "      <td>0</td>\n",
       "    </tr>\n",
       "    <tr>\n",
       "      <th>1</th>\n",
       "      <td>0</td>\n",
       "      <td>0</td>\n",
       "      <td>0</td>\n",
       "      <td>0</td>\n",
       "      <td>0</td>\n",
       "      <td>0</td>\n",
       "      <td>0</td>\n",
       "      <td>0</td>\n",
       "      <td>0</td>\n",
       "      <td>0</td>\n",
       "      <td>...</td>\n",
       "      <td>0</td>\n",
       "      <td>0</td>\n",
       "      <td>0</td>\n",
       "      <td>0</td>\n",
       "      <td>0</td>\n",
       "      <td>0</td>\n",
       "      <td>0</td>\n",
       "      <td>0</td>\n",
       "      <td>0</td>\n",
       "      <td>0</td>\n",
       "    </tr>\n",
       "    <tr>\n",
       "      <th>2</th>\n",
       "      <td>0</td>\n",
       "      <td>0</td>\n",
       "      <td>0</td>\n",
       "      <td>0</td>\n",
       "      <td>0</td>\n",
       "      <td>0</td>\n",
       "      <td>0</td>\n",
       "      <td>0</td>\n",
       "      <td>0</td>\n",
       "      <td>0</td>\n",
       "      <td>...</td>\n",
       "      <td>0</td>\n",
       "      <td>0</td>\n",
       "      <td>0</td>\n",
       "      <td>0</td>\n",
       "      <td>0</td>\n",
       "      <td>0</td>\n",
       "      <td>0</td>\n",
       "      <td>0</td>\n",
       "      <td>0</td>\n",
       "      <td>0</td>\n",
       "    </tr>\n",
       "    <tr>\n",
       "      <th>3</th>\n",
       "      <td>0</td>\n",
       "      <td>0</td>\n",
       "      <td>0</td>\n",
       "      <td>0</td>\n",
       "      <td>0</td>\n",
       "      <td>0</td>\n",
       "      <td>0</td>\n",
       "      <td>0</td>\n",
       "      <td>0</td>\n",
       "      <td>0</td>\n",
       "      <td>...</td>\n",
       "      <td>0</td>\n",
       "      <td>0</td>\n",
       "      <td>0</td>\n",
       "      <td>0</td>\n",
       "      <td>0</td>\n",
       "      <td>0</td>\n",
       "      <td>0</td>\n",
       "      <td>0</td>\n",
       "      <td>0</td>\n",
       "      <td>0</td>\n",
       "    </tr>\n",
       "    <tr>\n",
       "      <th>4</th>\n",
       "      <td>0</td>\n",
       "      <td>0</td>\n",
       "      <td>0</td>\n",
       "      <td>0</td>\n",
       "      <td>0</td>\n",
       "      <td>0</td>\n",
       "      <td>0</td>\n",
       "      <td>0</td>\n",
       "      <td>0</td>\n",
       "      <td>0</td>\n",
       "      <td>...</td>\n",
       "      <td>0</td>\n",
       "      <td>0</td>\n",
       "      <td>0</td>\n",
       "      <td>0</td>\n",
       "      <td>0</td>\n",
       "      <td>0</td>\n",
       "      <td>0</td>\n",
       "      <td>0</td>\n",
       "      <td>0</td>\n",
       "      <td>0</td>\n",
       "    </tr>\n",
       "  </tbody>\n",
       "</table>\n",
       "<p>5 rows × 57678 columns</p>\n",
       "</div>"
      ],
      "text/plain": [
       "   SourcePort_5  SourcePort_20  SourcePort_22  SourcePort_25  SourcePort_50  \\\n",
       "0             0              0              0              0              0   \n",
       "1             0              0              0              0              0   \n",
       "2             0              0              0              0              0   \n",
       "3             0              0              0              0              0   \n",
       "4             0              0              0              0              0   \n",
       "\n",
       "   SourcePort_67  SourcePort_68  SourcePort_80  SourcePort_123  \\\n",
       "0              0              0              0               0   \n",
       "1              0              0              0               0   \n",
       "2              0              0              0               0   \n",
       "3              0              0              0               0   \n",
       "4              0              0              0               0   \n",
       "\n",
       "   SourcePort_137  ...  NATDestinationPort_64932  NATDestinationPort_65054  \\\n",
       "0               0  ...                         0                         0   \n",
       "1               0  ...                         0                         0   \n",
       "2               0  ...                         0                         0   \n",
       "3               0  ...                         0                         0   \n",
       "4               0  ...                         0                         0   \n",
       "\n",
       "   NATDestinationPort_65100  NATDestinationPort_65128  \\\n",
       "0                         0                         0   \n",
       "1                         0                         0   \n",
       "2                         0                         0   \n",
       "3                         0                         0   \n",
       "4                         0                         0   \n",
       "\n",
       "   NATDestinationPort_65253  NATDestinationPort_65264  \\\n",
       "0                         0                         0   \n",
       "1                         0                         0   \n",
       "2                         0                         0   \n",
       "3                         0                         0   \n",
       "4                         0                         0   \n",
       "\n",
       "   NATDestinationPort_65387  NATDestinationPort_65427  \\\n",
       "0                         0                         0   \n",
       "1                         0                         0   \n",
       "2                         0                         0   \n",
       "3                         0                         0   \n",
       "4                         0                         0   \n",
       "\n",
       "   NATDestinationPort_65534  NATDestinationPort_65535  \n",
       "0                         0                         0  \n",
       "1                         0                         0  \n",
       "2                         0                         0  \n",
       "3                         0                         0  \n",
       "4                         0                         0  \n",
       "\n",
       "[5 rows x 57678 columns]"
      ]
     },
     "execution_count": 66,
     "metadata": {},
     "output_type": "execute_result"
    }
   ],
   "source": [
    "fw_Cat.head()"
   ]
  },
  {
   "cell_type": "code",
   "execution_count": 67,
   "id": "congressional-society",
   "metadata": {},
   "outputs": [],
   "source": [
    "fw_DF = pd.merge(fw, fw_Cat, left_index=True, right_index=True)\n"
   ]
  },
  {
   "cell_type": "code",
   "execution_count": 68,
   "id": "governing-czech",
   "metadata": {},
   "outputs": [
    {
     "data": {
      "text/html": [
       "<div>\n",
       "<style scoped>\n",
       "    .dataframe tbody tr th:only-of-type {\n",
       "        vertical-align: middle;\n",
       "    }\n",
       "\n",
       "    .dataframe tbody tr th {\n",
       "        vertical-align: top;\n",
       "    }\n",
       "\n",
       "    .dataframe thead th {\n",
       "        text-align: right;\n",
       "    }\n",
       "</style>\n",
       "<table border=\"1\" class=\"dataframe\">\n",
       "  <thead>\n",
       "    <tr style=\"text-align: right;\">\n",
       "      <th></th>\n",
       "      <th>Action</th>\n",
       "      <th>Bytes</th>\n",
       "      <th>BytesSent</th>\n",
       "      <th>BytesReceived</th>\n",
       "      <th>Packets</th>\n",
       "      <th>ElapsedTime(sec)</th>\n",
       "      <th>pkts_sent</th>\n",
       "      <th>pkts_received</th>\n",
       "      <th>SourcePort_5</th>\n",
       "      <th>SourcePort_20</th>\n",
       "      <th>...</th>\n",
       "      <th>NATDestinationPort_64932</th>\n",
       "      <th>NATDestinationPort_65054</th>\n",
       "      <th>NATDestinationPort_65100</th>\n",
       "      <th>NATDestinationPort_65128</th>\n",
       "      <th>NATDestinationPort_65253</th>\n",
       "      <th>NATDestinationPort_65264</th>\n",
       "      <th>NATDestinationPort_65387</th>\n",
       "      <th>NATDestinationPort_65427</th>\n",
       "      <th>NATDestinationPort_65534</th>\n",
       "      <th>NATDestinationPort_65535</th>\n",
       "    </tr>\n",
       "  </thead>\n",
       "  <tbody>\n",
       "    <tr>\n",
       "      <th>0</th>\n",
       "      <td>allow</td>\n",
       "      <td>177</td>\n",
       "      <td>94</td>\n",
       "      <td>83</td>\n",
       "      <td>2</td>\n",
       "      <td>30</td>\n",
       "      <td>1</td>\n",
       "      <td>1</td>\n",
       "      <td>0</td>\n",
       "      <td>0</td>\n",
       "      <td>...</td>\n",
       "      <td>0</td>\n",
       "      <td>0</td>\n",
       "      <td>0</td>\n",
       "      <td>0</td>\n",
       "      <td>0</td>\n",
       "      <td>0</td>\n",
       "      <td>0</td>\n",
       "      <td>0</td>\n",
       "      <td>0</td>\n",
       "      <td>0</td>\n",
       "    </tr>\n",
       "    <tr>\n",
       "      <th>1</th>\n",
       "      <td>allow</td>\n",
       "      <td>4768</td>\n",
       "      <td>1600</td>\n",
       "      <td>3168</td>\n",
       "      <td>19</td>\n",
       "      <td>17</td>\n",
       "      <td>10</td>\n",
       "      <td>9</td>\n",
       "      <td>0</td>\n",
       "      <td>0</td>\n",
       "      <td>...</td>\n",
       "      <td>0</td>\n",
       "      <td>0</td>\n",
       "      <td>0</td>\n",
       "      <td>0</td>\n",
       "      <td>0</td>\n",
       "      <td>0</td>\n",
       "      <td>0</td>\n",
       "      <td>0</td>\n",
       "      <td>0</td>\n",
       "      <td>0</td>\n",
       "    </tr>\n",
       "    <tr>\n",
       "      <th>2</th>\n",
       "      <td>allow</td>\n",
       "      <td>238</td>\n",
       "      <td>118</td>\n",
       "      <td>120</td>\n",
       "      <td>2</td>\n",
       "      <td>1199</td>\n",
       "      <td>1</td>\n",
       "      <td>1</td>\n",
       "      <td>0</td>\n",
       "      <td>0</td>\n",
       "      <td>...</td>\n",
       "      <td>0</td>\n",
       "      <td>0</td>\n",
       "      <td>0</td>\n",
       "      <td>0</td>\n",
       "      <td>0</td>\n",
       "      <td>0</td>\n",
       "      <td>0</td>\n",
       "      <td>0</td>\n",
       "      <td>0</td>\n",
       "      <td>0</td>\n",
       "    </tr>\n",
       "    <tr>\n",
       "      <th>3</th>\n",
       "      <td>allow</td>\n",
       "      <td>3327</td>\n",
       "      <td>1438</td>\n",
       "      <td>1889</td>\n",
       "      <td>15</td>\n",
       "      <td>17</td>\n",
       "      <td>8</td>\n",
       "      <td>7</td>\n",
       "      <td>0</td>\n",
       "      <td>0</td>\n",
       "      <td>...</td>\n",
       "      <td>0</td>\n",
       "      <td>0</td>\n",
       "      <td>0</td>\n",
       "      <td>0</td>\n",
       "      <td>0</td>\n",
       "      <td>0</td>\n",
       "      <td>0</td>\n",
       "      <td>0</td>\n",
       "      <td>0</td>\n",
       "      <td>0</td>\n",
       "    </tr>\n",
       "    <tr>\n",
       "      <th>4</th>\n",
       "      <td>allow</td>\n",
       "      <td>25358</td>\n",
       "      <td>6778</td>\n",
       "      <td>18580</td>\n",
       "      <td>31</td>\n",
       "      <td>16</td>\n",
       "      <td>13</td>\n",
       "      <td>18</td>\n",
       "      <td>0</td>\n",
       "      <td>0</td>\n",
       "      <td>...</td>\n",
       "      <td>0</td>\n",
       "      <td>0</td>\n",
       "      <td>0</td>\n",
       "      <td>0</td>\n",
       "      <td>0</td>\n",
       "      <td>0</td>\n",
       "      <td>0</td>\n",
       "      <td>0</td>\n",
       "      <td>0</td>\n",
       "      <td>0</td>\n",
       "    </tr>\n",
       "  </tbody>\n",
       "</table>\n",
       "<p>5 rows × 57686 columns</p>\n",
       "</div>"
      ],
      "text/plain": [
       "  Action  Bytes  BytesSent  BytesReceived  Packets  ElapsedTime(sec)  \\\n",
       "0  allow    177         94             83        2                30   \n",
       "1  allow   4768       1600           3168       19                17   \n",
       "2  allow    238        118            120        2              1199   \n",
       "3  allow   3327       1438           1889       15                17   \n",
       "4  allow  25358       6778          18580       31                16   \n",
       "\n",
       "   pkts_sent  pkts_received  SourcePort_5  SourcePort_20  ...  \\\n",
       "0          1              1             0              0  ...   \n",
       "1         10              9             0              0  ...   \n",
       "2          1              1             0              0  ...   \n",
       "3          8              7             0              0  ...   \n",
       "4         13             18             0              0  ...   \n",
       "\n",
       "   NATDestinationPort_64932  NATDestinationPort_65054  \\\n",
       "0                         0                         0   \n",
       "1                         0                         0   \n",
       "2                         0                         0   \n",
       "3                         0                         0   \n",
       "4                         0                         0   \n",
       "\n",
       "   NATDestinationPort_65100  NATDestinationPort_65128  \\\n",
       "0                         0                         0   \n",
       "1                         0                         0   \n",
       "2                         0                         0   \n",
       "3                         0                         0   \n",
       "4                         0                         0   \n",
       "\n",
       "   NATDestinationPort_65253  NATDestinationPort_65264  \\\n",
       "0                         0                         0   \n",
       "1                         0                         0   \n",
       "2                         0                         0   \n",
       "3                         0                         0   \n",
       "4                         0                         0   \n",
       "\n",
       "   NATDestinationPort_65387  NATDestinationPort_65427  \\\n",
       "0                         0                         0   \n",
       "1                         0                         0   \n",
       "2                         0                         0   \n",
       "3                         0                         0   \n",
       "4                         0                         0   \n",
       "\n",
       "   NATDestinationPort_65534  NATDestinationPort_65535  \n",
       "0                         0                         0  \n",
       "1                         0                         0  \n",
       "2                         0                         0  \n",
       "3                         0                         0  \n",
       "4                         0                         0  \n",
       "\n",
       "[5 rows x 57686 columns]"
      ]
     },
     "execution_count": 68,
     "metadata": {},
     "output_type": "execute_result"
    }
   ],
   "source": [
    "fw_DF = fw_DF.drop(['SourcePort', 'DestinationPort', 'NATSourcePort', 'NATDestinationPort'], axis=1)\n",
    "fw_DF.head()"
   ]
  },
  {
   "cell_type": "code",
   "execution_count": 69,
   "id": "blessed-cement",
   "metadata": {},
   "outputs": [
    {
     "data": {
      "text/plain": [
       "allow         37640\n",
       "deny          14987\n",
       "drop          12851\n",
       "reset-both       54\n",
       "Name: Action, dtype: int64"
      ]
     },
     "execution_count": 69,
     "metadata": {},
     "output_type": "execute_result"
    }
   ],
   "source": [
    "fw_DF.Action.value_counts()"
   ]
  },
  {
   "cell_type": "code",
   "execution_count": 13,
   "id": "ranging-spokesman",
   "metadata": {},
   "outputs": [],
   "source": [
    "# Convrt Target to Numberic and Drop Action\n",
    "fw_DF['target'] = np.where(fw_DF['Action'] == 'allow',0,fw_DF['Action'])\n",
    "fw_DF['target'] = np.where(fw_DF['Action'] == 'deny',1,fw_DF['target'])\n",
    "fw_DF['target'] = np.where(fw_DF['Action'] == 'drop',2,fw_DF['target'])\n",
    "fw_DF['target'] = np.where(fw_DF['Action'] == 'reset-both',3,fw_DF['target'])\n"
   ]
  },
  {
   "cell_type": "code",
   "execution_count": 14,
   "id": "surface-advice",
   "metadata": {},
   "outputs": [
    {
     "name": "stdout",
     "output_type": "stream",
     "text": [
      "Firewall Dataset - Rows: 65532 Columns/Features 57687\n"
     ]
    }
   ],
   "source": [
    "print(\"Firewall Dataset - Rows:\", fw_DF.shape[0], \"Columns/Features\", fw_DF.shape[1])"
   ]
  },
  {
   "cell_type": "code",
   "execution_count": 15,
   "id": "patent-photography",
   "metadata": {},
   "outputs": [
    {
     "name": "stdout",
     "output_type": "stream",
     "text": [
      "0    37640\n",
      "1    14987\n",
      "2    12851\n",
      "3       54\n",
      "Name: target, dtype: int64\n",
      "allow         37640\n",
      "deny          14987\n",
      "drop          12851\n",
      "reset-both       54\n",
      "Name: Action, dtype: int64\n"
     ]
    }
   ],
   "source": [
    "print(fw_DF.target.value_counts())\n",
    "print(fw_DF.Action.value_counts())"
   ]
  },
  {
   "cell_type": "code",
   "execution_count": 16,
   "id": "official-video",
   "metadata": {},
   "outputs": [],
   "source": [
    "fw_DF = fw_DF.drop(['Action'], axis=1)"
   ]
  },
  {
   "cell_type": "code",
   "execution_count": 17,
   "id": "intelligent-application",
   "metadata": {},
   "outputs": [
    {
     "data": {
      "text/html": [
       "<div>\n",
       "<style scoped>\n",
       "    .dataframe tbody tr th:only-of-type {\n",
       "        vertical-align: middle;\n",
       "    }\n",
       "\n",
       "    .dataframe tbody tr th {\n",
       "        vertical-align: top;\n",
       "    }\n",
       "\n",
       "    .dataframe thead th {\n",
       "        text-align: right;\n",
       "    }\n",
       "</style>\n",
       "<table border=\"1\" class=\"dataframe\">\n",
       "  <thead>\n",
       "    <tr style=\"text-align: right;\">\n",
       "      <th></th>\n",
       "      <th>Bytes</th>\n",
       "      <th>BytesSent</th>\n",
       "      <th>BytesReceived</th>\n",
       "      <th>Packets</th>\n",
       "      <th>ElapsedTime(sec)</th>\n",
       "      <th>pkts_sent</th>\n",
       "      <th>pkts_received</th>\n",
       "      <th>SourcePort_5</th>\n",
       "      <th>SourcePort_20</th>\n",
       "      <th>SourcePort_22</th>\n",
       "      <th>...</th>\n",
       "      <th>NATDestinationPort_65054</th>\n",
       "      <th>NATDestinationPort_65100</th>\n",
       "      <th>NATDestinationPort_65128</th>\n",
       "      <th>NATDestinationPort_65253</th>\n",
       "      <th>NATDestinationPort_65264</th>\n",
       "      <th>NATDestinationPort_65387</th>\n",
       "      <th>NATDestinationPort_65427</th>\n",
       "      <th>NATDestinationPort_65534</th>\n",
       "      <th>NATDestinationPort_65535</th>\n",
       "      <th>target</th>\n",
       "    </tr>\n",
       "  </thead>\n",
       "  <tbody>\n",
       "    <tr>\n",
       "      <th>0</th>\n",
       "      <td>177</td>\n",
       "      <td>94</td>\n",
       "      <td>83</td>\n",
       "      <td>2</td>\n",
       "      <td>30</td>\n",
       "      <td>1</td>\n",
       "      <td>1</td>\n",
       "      <td>0</td>\n",
       "      <td>0</td>\n",
       "      <td>0</td>\n",
       "      <td>...</td>\n",
       "      <td>0</td>\n",
       "      <td>0</td>\n",
       "      <td>0</td>\n",
       "      <td>0</td>\n",
       "      <td>0</td>\n",
       "      <td>0</td>\n",
       "      <td>0</td>\n",
       "      <td>0</td>\n",
       "      <td>0</td>\n",
       "      <td>0</td>\n",
       "    </tr>\n",
       "    <tr>\n",
       "      <th>1</th>\n",
       "      <td>4768</td>\n",
       "      <td>1600</td>\n",
       "      <td>3168</td>\n",
       "      <td>19</td>\n",
       "      <td>17</td>\n",
       "      <td>10</td>\n",
       "      <td>9</td>\n",
       "      <td>0</td>\n",
       "      <td>0</td>\n",
       "      <td>0</td>\n",
       "      <td>...</td>\n",
       "      <td>0</td>\n",
       "      <td>0</td>\n",
       "      <td>0</td>\n",
       "      <td>0</td>\n",
       "      <td>0</td>\n",
       "      <td>0</td>\n",
       "      <td>0</td>\n",
       "      <td>0</td>\n",
       "      <td>0</td>\n",
       "      <td>0</td>\n",
       "    </tr>\n",
       "    <tr>\n",
       "      <th>2</th>\n",
       "      <td>238</td>\n",
       "      <td>118</td>\n",
       "      <td>120</td>\n",
       "      <td>2</td>\n",
       "      <td>1199</td>\n",
       "      <td>1</td>\n",
       "      <td>1</td>\n",
       "      <td>0</td>\n",
       "      <td>0</td>\n",
       "      <td>0</td>\n",
       "      <td>...</td>\n",
       "      <td>0</td>\n",
       "      <td>0</td>\n",
       "      <td>0</td>\n",
       "      <td>0</td>\n",
       "      <td>0</td>\n",
       "      <td>0</td>\n",
       "      <td>0</td>\n",
       "      <td>0</td>\n",
       "      <td>0</td>\n",
       "      <td>0</td>\n",
       "    </tr>\n",
       "    <tr>\n",
       "      <th>3</th>\n",
       "      <td>3327</td>\n",
       "      <td>1438</td>\n",
       "      <td>1889</td>\n",
       "      <td>15</td>\n",
       "      <td>17</td>\n",
       "      <td>8</td>\n",
       "      <td>7</td>\n",
       "      <td>0</td>\n",
       "      <td>0</td>\n",
       "      <td>0</td>\n",
       "      <td>...</td>\n",
       "      <td>0</td>\n",
       "      <td>0</td>\n",
       "      <td>0</td>\n",
       "      <td>0</td>\n",
       "      <td>0</td>\n",
       "      <td>0</td>\n",
       "      <td>0</td>\n",
       "      <td>0</td>\n",
       "      <td>0</td>\n",
       "      <td>0</td>\n",
       "    </tr>\n",
       "    <tr>\n",
       "      <th>4</th>\n",
       "      <td>25358</td>\n",
       "      <td>6778</td>\n",
       "      <td>18580</td>\n",
       "      <td>31</td>\n",
       "      <td>16</td>\n",
       "      <td>13</td>\n",
       "      <td>18</td>\n",
       "      <td>0</td>\n",
       "      <td>0</td>\n",
       "      <td>0</td>\n",
       "      <td>...</td>\n",
       "      <td>0</td>\n",
       "      <td>0</td>\n",
       "      <td>0</td>\n",
       "      <td>0</td>\n",
       "      <td>0</td>\n",
       "      <td>0</td>\n",
       "      <td>0</td>\n",
       "      <td>0</td>\n",
       "      <td>0</td>\n",
       "      <td>0</td>\n",
       "    </tr>\n",
       "  </tbody>\n",
       "</table>\n",
       "<p>5 rows × 57686 columns</p>\n",
       "</div>"
      ],
      "text/plain": [
       "   Bytes  BytesSent  BytesReceived  Packets  ElapsedTime(sec)  pkts_sent  \\\n",
       "0    177         94             83        2                30          1   \n",
       "1   4768       1600           3168       19                17         10   \n",
       "2    238        118            120        2              1199          1   \n",
       "3   3327       1438           1889       15                17          8   \n",
       "4  25358       6778          18580       31                16         13   \n",
       "\n",
       "   pkts_received  SourcePort_5  SourcePort_20  SourcePort_22  ...  \\\n",
       "0              1             0              0              0  ...   \n",
       "1              9             0              0              0  ...   \n",
       "2              1             0              0              0  ...   \n",
       "3              7             0              0              0  ...   \n",
       "4             18             0              0              0  ...   \n",
       "\n",
       "   NATDestinationPort_65054  NATDestinationPort_65100  \\\n",
       "0                         0                         0   \n",
       "1                         0                         0   \n",
       "2                         0                         0   \n",
       "3                         0                         0   \n",
       "4                         0                         0   \n",
       "\n",
       "   NATDestinationPort_65128  NATDestinationPort_65253  \\\n",
       "0                         0                         0   \n",
       "1                         0                         0   \n",
       "2                         0                         0   \n",
       "3                         0                         0   \n",
       "4                         0                         0   \n",
       "\n",
       "   NATDestinationPort_65264  NATDestinationPort_65387  \\\n",
       "0                         0                         0   \n",
       "1                         0                         0   \n",
       "2                         0                         0   \n",
       "3                         0                         0   \n",
       "4                         0                         0   \n",
       "\n",
       "   NATDestinationPort_65427  NATDestinationPort_65534  \\\n",
       "0                         0                         0   \n",
       "1                         0                         0   \n",
       "2                         0                         0   \n",
       "3                         0                         0   \n",
       "4                         0                         0   \n",
       "\n",
       "   NATDestinationPort_65535  target  \n",
       "0                         0       0  \n",
       "1                         0       0  \n",
       "2                         0       0  \n",
       "3                         0       0  \n",
       "4                         0       0  \n",
       "\n",
       "[5 rows x 57686 columns]"
      ]
     },
     "execution_count": 17,
     "metadata": {},
     "output_type": "execute_result"
    }
   ],
   "source": [
    "fw_DF.head()"
   ]
  },
  {
   "cell_type": "code",
   "execution_count": 18,
   "id": "major-conflict",
   "metadata": {},
   "outputs": [
    {
     "name": "stdout",
     "output_type": "stream",
     "text": [
      "CPU times: user 53.4 s, sys: 122 ms, total: 53.5 s\n",
      "Wall time: 53.6 s\n"
     ]
    }
   ],
   "source": [
    "%%time\n",
    "# Scale Data - All Data\n",
    "X = fw_DF.copy()\n",
    "X = X.drop(['target'], axis=1)\n",
    "y = fw_DF['target']\n",
    "y=y.astype('int')\n",
    "# scaler = StandardScaler()\n",
    "# X_scaled = scaler.fit_transform(X)\n",
    "# X_train, X_test, y_train, y_test = train_test_split(X_scaled, y, test_size=0.80, random_state=76)\n",
    "X_train, X_test, y_train, y_test = train_test_split(X, y, test_size=0.80, random_state=76)"
   ]
  },
  {
   "cell_type": "code",
   "execution_count": 19,
   "id": "suitable-abraham",
   "metadata": {},
   "outputs": [
    {
     "data": {
      "text/plain": [
       "(65532, 57685)"
      ]
     },
     "execution_count": 19,
     "metadata": {},
     "output_type": "execute_result"
    }
   ],
   "source": [
    "X.shape"
   ]
  },
  {
   "cell_type": "code",
   "execution_count": 20,
   "id": "blind-interaction",
   "metadata": {},
   "outputs": [
    {
     "data": {
      "text/plain": [
       "65532"
      ]
     },
     "execution_count": 20,
     "metadata": {},
     "output_type": "execute_result"
    }
   ],
   "source": [
    "len(y)"
   ]
  },
  {
   "cell_type": "markdown",
   "id": "smooth-needle",
   "metadata": {},
   "source": [
    "# SVC"
   ]
  },
  {
   "cell_type": "code",
   "execution_count": 21,
   "id": "medium-moscow",
   "metadata": {},
   "outputs": [
    {
     "name": "stdout",
     "output_type": "stream",
     "text": [
      "CPU times: user 14 µs, sys: 1 µs, total: 15 µs\n",
      "Wall time: 16.2 µs\n"
     ]
    }
   ],
   "source": [
    "%%time\n",
    "my_model = SVC(C=1, kernel='linear', decision_function_shape='ovo')"
   ]
  },
  {
   "cell_type": "code",
   "execution_count": 22,
   "id": "polyphonic-voice",
   "metadata": {},
   "outputs": [
    {
     "name": "stdout",
     "output_type": "stream",
     "text": [
      "CPU times: user 2h 16min 15s, sys: 19min 20s, total: 2h 35min 35s\n",
      "Wall time: 28min 12s\n"
     ]
    },
    {
     "data": {
      "text/plain": [
       "SVC(C=1, decision_function_shape='ovo', kernel='linear')"
      ]
     },
     "execution_count": 22,
     "metadata": {},
     "output_type": "execute_result"
    }
   ],
   "source": [
    "%%time\n",
    "my_model.fit(X_train, y_train)\n",
    "# my_model.fit(X, y)"
   ]
  },
  {
   "cell_type": "code",
   "execution_count": 23,
   "id": "level-greene",
   "metadata": {},
   "outputs": [
    {
     "name": "stdout",
     "output_type": "stream",
     "text": [
      "CPU times: user 7h 37min 21s, sys: 1h 17min 28s, total: 8h 54min 49s\n",
      "Wall time: 1h 38min 40s\n"
     ]
    },
    {
     "data": {
      "text/plain": [
       "0.9983786670735895"
      ]
     },
     "execution_count": 23,
     "metadata": {},
     "output_type": "execute_result"
    }
   ],
   "source": [
    "%%time\n",
    "my_model.score(X_test, y_test)\n",
    "# my_model.score(X, y)"
   ]
  },
  {
   "cell_type": "code",
   "execution_count": 24,
   "id": "auburn-spoke",
   "metadata": {},
   "outputs": [],
   "source": [
    "import pickle\n",
    "# Save Pickle\n",
    "with open('my_model_pkl', 'wb') as files:\n",
    "    pickle.dump(my_model, files)"
   ]
  },
  {
   "cell_type": "code",
   "execution_count": 25,
   "id": "monetary-blank",
   "metadata": {},
   "outputs": [],
   "source": [
    "# Load Pickle\n",
    "# with open('my_model_pkl' , 'rb') as f:\n",
    "#     my_model2 = pickle.load(f)"
   ]
  },
  {
   "cell_type": "code",
   "execution_count": 26,
   "id": "subject-database",
   "metadata": {},
   "outputs": [],
   "source": [
    "preds = my_model.predict(X_test)"
   ]
  },
  {
   "cell_type": "code",
   "execution_count": 27,
   "id": "organized-forth",
   "metadata": {},
   "outputs": [
    {
     "data": {
      "text/plain": [
       "0.9983786670735895"
      ]
     },
     "execution_count": 27,
     "metadata": {},
     "output_type": "execute_result"
    }
   ],
   "source": [
    "result_ACC = accuracy_score(y_test, preds, normalize=True)\n",
    "result_ACC"
   ]
  },
  {
   "cell_type": "code",
   "execution_count": 28,
   "id": "developing-scientist",
   "metadata": {},
   "outputs": [
    {
     "data": {
      "text/plain": [
       "0.9983786670735895"
      ]
     },
     "execution_count": 28,
     "metadata": {},
     "output_type": "execute_result"
    }
   ],
   "source": [
    "result_ACC"
   ]
  },
  {
   "cell_type": "code",
   "execution_count": 29,
   "id": "coated-shepherd",
   "metadata": {},
   "outputs": [
    {
     "data": {
      "image/png": "[encoded data removed]",
      "text/plain": [
       "<Figure size 432x288 with 2 Axes>"
      ]
     },
     "metadata": {
      "needs_background": "light"
     },
     "output_type": "display_data"
    }
   ],
   "source": [
    "ax= plt.subplot()\n",
    "\n",
    "cm_Result = confusion_matrix(y_test, preds)\n",
    "sns.heatmap(cm_Result, cmap=\"Blues\", annot=True, fmt='d', ax=ax) # for decimal\n",
    "\n",
    "# labels, title and ticks\n",
    "ax.set_xlabel('Predicted labels');ax.set_ylabel('True labels'); \n",
    "ax.set_title('Confusion Matrix'); \n",
    "ax.xaxis.set_ticklabels(['allow', 'deny', 'drop', 'reset-both']); ax.yaxis.set_ticklabels(['allow', 'deny', 'drop', 'reset-both']);\n",
    "\n",
    "\n"
   ]
  },
  {
   "cell_type": "markdown",
   "id": "registered-wayne",
   "metadata": {},
   "source": [
    "### Did not Run this because it took too long"
   ]
  },
  {
   "cell_type": "code",
   "execution_count": 30,
   "id": "third-waters",
   "metadata": {},
   "outputs": [],
   "source": [
    "\n",
    "# %%time\n",
    "# my_new_model = SVC(C=1, verbose=True)\n",
    "# result = []\n",
    "# for m in ['linear', 'poly', 'rbf', 'sigmoid']:\n",
    "#     my_new_model.kernel = m\n",
    "#     print(m)\n",
    "#     for i in [1E-2, 1E-1, 1, 10]:\n",
    "#         print(i)\n",
    "#         my_new_model.C = i\n",
    "#         my_new_model_Fit = my_new_model.fit(X_train, y_train)\n",
    "#         my_new_model_Score = my_new_model.score(X_test, y_test)\n",
    "#         my_new_model_preds = my_new_model.predict(X_test)\n",
    "#         print(m, i, C, Score)\n",
    "#         result.append({\n",
    "#             \"Kernel\": m,\n",
    "#             'C': i,\n",
    "#             'Model_Fit': my_new_model_Fit,\n",
    "#             'Score': my_new_model_Score,\n",
    "#             'Preds': my_new_model_preds,\n",
    "#             })\n",
    "\n",
    "# result = pd.DataFrame(result)\n",
    "# display(result)  \n",
    "# result.to_csv(r'csv/result.csv')\n"
   ]
  },
  {
   "cell_type": "markdown",
   "id": "broadband-feature",
   "metadata": {},
   "source": [
    "# SGD"
   ]
  },
  {
   "cell_type": "code",
   "execution_count": 31,
   "id": "amateur-chassis",
   "metadata": {},
   "outputs": [],
   "source": [
    "from sklearn.linear_model import SGDClassifier\n",
    "# clf = SGDClassifier(loss=\"hinge\", penalty=\"l2\", max_iter=1000)\n",
    "clf_Base = SGDClassifier(loss=\"log\", penalty=\"l2\", max_iter=1000, n_jobs=-1)"
   ]
  },
  {
   "cell_type": "code",
   "execution_count": 32,
   "id": "typical-bolivia",
   "metadata": {},
   "outputs": [
    {
     "name": "stdout",
     "output_type": "stream",
     "text": [
      "CPU times: user 3min 11s, sys: 1min 15s, total: 4min 26s\n",
      "Wall time: 4min 28s\n"
     ]
    },
    {
     "data": {
      "text/plain": [
       "SGDClassifier(loss='log', n_jobs=-1)"
      ]
     },
     "execution_count": 32,
     "metadata": {},
     "output_type": "execute_result"
    }
   ],
   "source": [
    "%%time\n",
    "clf_Base.fit(X_train, y_train)"
   ]
  },
  {
   "cell_type": "code",
   "execution_count": 33,
   "id": "arranged-forestry",
   "metadata": {},
   "outputs": [
    {
     "name": "stdout",
     "output_type": "stream",
     "text": [
      "CPU times: user 1min 3s, sys: 43.1 s, total: 1min 46s\n",
      "Wall time: 1min 39s\n"
     ]
    },
    {
     "data": {
      "text/plain": [
       "0.5742570480296036"
      ]
     },
     "execution_count": 33,
     "metadata": {},
     "output_type": "execute_result"
    }
   ],
   "source": [
    "%%time\n",
    "clf_Base.score(X_test, y_test)\n"
   ]
  },
  {
   "cell_type": "code",
   "execution_count": 34,
   "id": "descending-ireland",
   "metadata": {},
   "outputs": [],
   "source": [
    "# import pickle\n",
    "# # Save Pickle\n",
    "# with open('clf_pkl', 'wb') as files:\n",
    "#     pickle.dump(clf_Base, files)"
   ]
  },
  {
   "cell_type": "code",
   "execution_count": 35,
   "id": "silver-behalf",
   "metadata": {},
   "outputs": [
    {
     "name": "stdout",
     "output_type": "stream",
     "text": [
      "CPU times: user 1min 2s, sys: 43 s, total: 1min 45s\n",
      "Wall time: 1min 39s\n"
     ]
    }
   ],
   "source": [
    "%%time\n",
    "clf_Base_preds = clf_Base.predict(X_test)"
   ]
  },
  {
   "cell_type": "code",
   "execution_count": 36,
   "id": "discrete-commons",
   "metadata": {},
   "outputs": [
    {
     "name": "stdout",
     "output_type": "stream",
     "text": [
      "CPU times: user 1min 3s, sys: 43.4 s, total: 1min 46s\n",
      "Wall time: 1min 40s\n"
     ]
    }
   ],
   "source": [
    "%%time\n",
    "clf_Base_Score = clf_Base.score(X_test, y_test)\n"
   ]
  },
  {
   "cell_type": "code",
   "execution_count": 37,
   "id": "finished-contamination",
   "metadata": {},
   "outputs": [
    {
     "data": {
      "text/plain": [
       "0.5742570480296036"
      ]
     },
     "execution_count": 37,
     "metadata": {},
     "output_type": "execute_result"
    }
   ],
   "source": [
    "clf_Base_Score"
   ]
  },
  {
   "cell_type": "code",
   "execution_count": 38,
   "id": "supported-ancient",
   "metadata": {},
   "outputs": [
    {
     "data": {
      "image/png": "[encoded data removed]",
      "text/plain": [
       "<Figure size 432x288 with 2 Axes>"
      ]
     },
     "metadata": {
      "needs_background": "light"
     },
     "output_type": "display_data"
    }
   ],
   "source": [
    "ax= plt.subplot()\n",
    "\n",
    "cm_Result_CLF = confusion_matrix(y_test, clf_Base_preds)\n",
    "sns.heatmap(cm_Result_CLF, cmap=\"Blues\", annot=True, fmt='d', ax=ax) # for decimal\n",
    "\n",
    "# labels, title and ticks\n",
    "ax.set_xlabel('Predicted labels');ax.set_ylabel('True labels'); \n",
    "ax.set_title('Confusion Matrix'); \n",
    "ax.xaxis.set_ticklabels(['allow', 'deny', 'drop', 'reset-both']); ax.yaxis.set_ticklabels(['allow', 'deny', 'drop', 'reset-both']);\n",
    "\n"
   ]
  },
  {
   "cell_type": "code",
   "execution_count": 39,
   "id": "detailed-aircraft",
   "metadata": {},
   "outputs": [],
   "source": [
    "# Test\n",
    "from sklearn.linear_model import SGDClassifier \n",
    "from sklearn.model_selection import RandomizedSearchCV "
   ]
  },
  {
   "cell_type": "markdown",
   "id": "possible-vegetable",
   "metadata": {},
   "source": [
    "# SGD Optimizer"
   ]
  },
  {
   "cell_type": "code",
   "execution_count": 40,
   "id": "aerial-sharing",
   "metadata": {},
   "outputs": [],
   "source": [
    "clf = SGDClassifier(loss=\"log\", penalty=\"l2\", max_iter=1000)"
   ]
  },
  {
   "cell_type": "code",
   "execution_count": 49,
   "id": "municipal-class",
   "metadata": {},
   "outputs": [
    {
     "name": "stdout",
     "output_type": "stream",
     "text": [
      "SGDClassifier(alpha=0.001, loss='log')\n",
      "Fitting\n",
      "Scoring\n",
      "0.9388852859268302\n",
      "log 0.001 0.9388852859268302\n",
      "Appending to Dict\n",
      "SGDClassifier(alpha=0.01, loss='log')\n",
      "Fitting\n",
      "Scoring\n",
      "0.9744973867928127\n",
      "log 0.01 0.9744973867928127\n",
      "Appending to Dict\n",
      "SGDClassifier(alpha=0.1, loss='log')\n",
      "Fitting\n",
      "Scoring\n",
      "0.5742570480296036\n",
      "log 0.1 0.5742570480296036\n",
      "Appending to Dict\n",
      "SGDClassifier(alpha=1.0, loss='log')\n",
      "Fitting\n",
      "Scoring\n",
      "0.5742570480296036\n",
      "log 1.0 0.5742570480296036\n",
      "Appending to Dict\n",
      "SGDClassifier(alpha=10.0, loss='log')\n",
      "Fitting\n",
      "Scoring\n",
      "0.5742570480296036\n",
      "log 10.0 0.5742570480296036\n",
      "Appending to Dict\n",
      "SGDClassifier(alpha=0.001)\n",
      "Fitting\n",
      "Scoring\n",
      "0.9900621828863541\n",
      "hinge 0.001 0.9900621828863541\n",
      "Appending to Dict\n",
      "SGDClassifier(alpha=0.01)\n",
      "Fitting\n",
      "Scoring\n",
      "0.9433105710906802\n",
      "hinge 0.01 0.9433105710906802\n",
      "Appending to Dict\n",
      "SGDClassifier(alpha=0.1)\n",
      "Fitting\n",
      "Scoring\n",
      "0.9575973753481097\n",
      "hinge 0.1 0.9575973753481097\n",
      "Appending to Dict\n",
      "SGDClassifier(alpha=1.0)\n",
      "Fitting\n",
      "Scoring\n",
      "0.7941479418609088\n",
      "hinge 1.0 0.7941479418609088\n",
      "Appending to Dict\n",
      "SGDClassifier(alpha=10.0)\n",
      "Fitting\n",
      "Scoring\n",
      "0.5742570480296036\n",
      "hinge 10.0 0.5742570480296036\n",
      "Appending to Dict\n",
      "SGDClassifier(alpha=0.001, loss='modified_huber')\n",
      "Fitting\n",
      "Scoring\n",
      "0.8697592797466905\n",
      "modified_huber 0.001 0.8697592797466905\n",
      "Appending to Dict\n",
      "SGDClassifier(alpha=0.01, loss='modified_huber')\n",
      "Fitting\n",
      "Scoring\n",
      "0.5742570480296036\n",
      "modified_huber 0.01 0.5742570480296036\n",
      "Appending to Dict\n",
      "SGDClassifier(alpha=0.1, loss='modified_huber')\n",
      "Fitting\n",
      "Scoring\n",
      "0.5742570480296036\n",
      "modified_huber 0.1 0.5742570480296036\n",
      "Appending to Dict\n",
      "SGDClassifier(alpha=1.0, loss='modified_huber')\n",
      "Fitting\n",
      "Scoring\n",
      "0.5742570480296036\n",
      "modified_huber 1.0 0.5742570480296036\n",
      "Appending to Dict\n",
      "SGDClassifier(alpha=10.0, loss='modified_huber')\n",
      "Fitting\n",
      "Scoring\n",
      "0.7679395719681075\n",
      "modified_huber 10.0 0.7679395719681075\n",
      "Appending to Dict\n",
      "SGDClassifier(alpha=0.001, loss='squared_hinge')\n",
      "Fitting\n",
      "Scoring\n",
      "0.9712356464349751\n",
      "squared_hinge 0.001 0.9712356464349751\n",
      "Appending to Dict\n",
      "SGDClassifier(alpha=0.01, loss='squared_hinge')\n",
      "Fitting\n",
      "Scoring\n",
      "0.5742570480296036\n",
      "squared_hinge 0.01 0.5742570480296036\n",
      "Appending to Dict\n",
      "SGDClassifier(alpha=0.1, loss='squared_hinge')\n",
      "Fitting\n",
      "Scoring\n",
      "0.5742570480296036\n",
      "squared_hinge 0.1 0.5742570480296036\n",
      "Appending to Dict\n",
      "SGDClassifier(alpha=1.0, loss='squared_hinge')\n",
      "Fitting\n",
      "Scoring\n",
      "0.5742570480296036\n",
      "squared_hinge 1.0 0.5742570480296036\n",
      "Appending to Dict\n",
      "SGDClassifier(alpha=10.0, loss='squared_hinge')\n",
      "Fitting\n",
      "Scoring\n",
      "0.7342349216037843\n",
      "squared_hinge 10.0 0.7342349216037843\n",
      "Appending to Dict\n",
      "SGDClassifier(alpha=0.001, loss='perceptron')\n",
      "Fitting\n",
      "Scoring\n",
      "0.9756227825887919\n",
      "perceptron 0.001 0.9756227825887919\n",
      "Appending to Dict\n",
      "SGDClassifier(alpha=0.01, loss='perceptron')\n",
      "Fitting\n",
      "Scoring\n",
      "0.5742570480296036\n",
      "perceptron 0.01 0.5742570480296036\n",
      "Appending to Dict\n",
      "SGDClassifier(alpha=0.1, loss='perceptron')\n",
      "Fitting\n",
      "Scoring\n",
      "0.7621599969480792\n",
      "perceptron 0.1 0.7621599969480792\n",
      "Appending to Dict\n",
      "SGDClassifier(alpha=1.0, loss='perceptron')\n",
      "Fitting\n",
      "Scoring\n",
      "0.5742570480296036\n",
      "perceptron 1.0 0.5742570480296036\n",
      "Appending to Dict\n",
      "SGDClassifier(alpha=10.0, loss='perceptron')\n",
      "Fitting\n",
      "Scoring\n",
      "0.5742570480296036\n",
      "perceptron 10.0 0.5742570480296036\n",
      "Appending to Dict\n"
     ]
    },
    {
     "data": {
      "text/html": [
       "<div>\n",
       "<style scoped>\n",
       "    .dataframe tbody tr th:only-of-type {\n",
       "        vertical-align: middle;\n",
       "    }\n",
       "\n",
       "    .dataframe tbody tr th {\n",
       "        vertical-align: top;\n",
       "    }\n",
       "\n",
       "    .dataframe thead th {\n",
       "        text-align: right;\n",
       "    }\n",
       "</style>\n",
       "<table border=\"1\" class=\"dataframe\">\n",
       "  <thead>\n",
       "    <tr style=\"text-align: right;\">\n",
       "      <th></th>\n",
       "      <th>Loss</th>\n",
       "      <th>Alpha</th>\n",
       "      <th>Model_Fit</th>\n",
       "      <th>Score</th>\n",
       "    </tr>\n",
       "  </thead>\n",
       "  <tbody>\n",
       "    <tr>\n",
       "      <th>0</th>\n",
       "      <td>log</td>\n",
       "      <td>0.001</td>\n",
       "      <td>SGDClassifier(alpha=0.001, loss='log')</td>\n",
       "      <td>0.938885</td>\n",
       "    </tr>\n",
       "    <tr>\n",
       "      <th>1</th>\n",
       "      <td>log</td>\n",
       "      <td>0.010</td>\n",
       "      <td>SGDClassifier(alpha=0.01, loss='log')</td>\n",
       "      <td>0.974497</td>\n",
       "    </tr>\n",
       "    <tr>\n",
       "      <th>2</th>\n",
       "      <td>log</td>\n",
       "      <td>0.100</td>\n",
       "      <td>SGDClassifier(alpha=0.1, loss='log')</td>\n",
       "      <td>0.574257</td>\n",
       "    </tr>\n",
       "    <tr>\n",
       "      <th>3</th>\n",
       "      <td>log</td>\n",
       "      <td>1.000</td>\n",
       "      <td>SGDClassifier(alpha=1.0, loss='log')</td>\n",
       "      <td>0.574257</td>\n",
       "    </tr>\n",
       "    <tr>\n",
       "      <th>4</th>\n",
       "      <td>log</td>\n",
       "      <td>10.000</td>\n",
       "      <td>SGDClassifier(alpha=10.0, loss='log')</td>\n",
       "      <td>0.574257</td>\n",
       "    </tr>\n",
       "    <tr>\n",
       "      <th>5</th>\n",
       "      <td>hinge</td>\n",
       "      <td>0.001</td>\n",
       "      <td>SGDClassifier(alpha=0.001)</td>\n",
       "      <td>0.990062</td>\n",
       "    </tr>\n",
       "    <tr>\n",
       "      <th>6</th>\n",
       "      <td>hinge</td>\n",
       "      <td>0.010</td>\n",
       "      <td>SGDClassifier(alpha=0.01)</td>\n",
       "      <td>0.943311</td>\n",
       "    </tr>\n",
       "    <tr>\n",
       "      <th>7</th>\n",
       "      <td>hinge</td>\n",
       "      <td>0.100</td>\n",
       "      <td>SGDClassifier(alpha=0.1)</td>\n",
       "      <td>0.957597</td>\n",
       "    </tr>\n",
       "    <tr>\n",
       "      <th>8</th>\n",
       "      <td>hinge</td>\n",
       "      <td>1.000</td>\n",
       "      <td>SGDClassifier(alpha=1.0)</td>\n",
       "      <td>0.794148</td>\n",
       "    </tr>\n",
       "    <tr>\n",
       "      <th>9</th>\n",
       "      <td>hinge</td>\n",
       "      <td>10.000</td>\n",
       "      <td>SGDClassifier(alpha=10.0)</td>\n",
       "      <td>0.574257</td>\n",
       "    </tr>\n",
       "    <tr>\n",
       "      <th>10</th>\n",
       "      <td>modified_huber</td>\n",
       "      <td>0.001</td>\n",
       "      <td>SGDClassifier(alpha=0.001, loss='modified_huber')</td>\n",
       "      <td>0.869759</td>\n",
       "    </tr>\n",
       "    <tr>\n",
       "      <th>11</th>\n",
       "      <td>modified_huber</td>\n",
       "      <td>0.010</td>\n",
       "      <td>SGDClassifier(alpha=0.01, loss='modified_huber')</td>\n",
       "      <td>0.574257</td>\n",
       "    </tr>\n",
       "    <tr>\n",
       "      <th>12</th>\n",
       "      <td>modified_huber</td>\n",
       "      <td>0.100</td>\n",
       "      <td>SGDClassifier(alpha=0.1, loss='modified_huber')</td>\n",
       "      <td>0.574257</td>\n",
       "    </tr>\n",
       "    <tr>\n",
       "      <th>13</th>\n",
       "      <td>modified_huber</td>\n",
       "      <td>1.000</td>\n",
       "      <td>SGDClassifier(alpha=1.0, loss='modified_huber')</td>\n",
       "      <td>0.574257</td>\n",
       "    </tr>\n",
       "    <tr>\n",
       "      <th>14</th>\n",
       "      <td>modified_huber</td>\n",
       "      <td>10.000</td>\n",
       "      <td>SGDClassifier(alpha=10.0, loss='modified_huber')</td>\n",
       "      <td>0.767940</td>\n",
       "    </tr>\n",
       "    <tr>\n",
       "      <th>15</th>\n",
       "      <td>squared_hinge</td>\n",
       "      <td>0.001</td>\n",
       "      <td>SGDClassifier(alpha=0.001, loss='squared_hinge')</td>\n",
       "      <td>0.971236</td>\n",
       "    </tr>\n",
       "    <tr>\n",
       "      <th>16</th>\n",
       "      <td>squared_hinge</td>\n",
       "      <td>0.010</td>\n",
       "      <td>SGDClassifier(alpha=0.01, loss='squared_hinge')</td>\n",
       "      <td>0.574257</td>\n",
       "    </tr>\n",
       "    <tr>\n",
       "      <th>17</th>\n",
       "      <td>squared_hinge</td>\n",
       "      <td>0.100</td>\n",
       "      <td>SGDClassifier(alpha=0.1, loss='squared_hinge')</td>\n",
       "      <td>0.574257</td>\n",
       "    </tr>\n",
       "    <tr>\n",
       "      <th>18</th>\n",
       "      <td>squared_hinge</td>\n",
       "      <td>1.000</td>\n",
       "      <td>SGDClassifier(alpha=1.0, loss='squared_hinge')</td>\n",
       "      <td>0.574257</td>\n",
       "    </tr>\n",
       "    <tr>\n",
       "      <th>19</th>\n",
       "      <td>squared_hinge</td>\n",
       "      <td>10.000</td>\n",
       "      <td>SGDClassifier(alpha=10.0, loss='squared_hinge')</td>\n",
       "      <td>0.734235</td>\n",
       "    </tr>\n",
       "    <tr>\n",
       "      <th>20</th>\n",
       "      <td>perceptron</td>\n",
       "      <td>0.001</td>\n",
       "      <td>SGDClassifier(alpha=0.001, loss='perceptron')</td>\n",
       "      <td>0.975623</td>\n",
       "    </tr>\n",
       "    <tr>\n",
       "      <th>21</th>\n",
       "      <td>perceptron</td>\n",
       "      <td>0.010</td>\n",
       "      <td>SGDClassifier(alpha=0.01, loss='perceptron')</td>\n",
       "      <td>0.574257</td>\n",
       "    </tr>\n",
       "    <tr>\n",
       "      <th>22</th>\n",
       "      <td>perceptron</td>\n",
       "      <td>0.100</td>\n",
       "      <td>SGDClassifier(alpha=0.1, loss='perceptron')</td>\n",
       "      <td>0.762160</td>\n",
       "    </tr>\n",
       "    <tr>\n",
       "      <th>23</th>\n",
       "      <td>perceptron</td>\n",
       "      <td>1.000</td>\n",
       "      <td>SGDClassifier(alpha=1.0, loss='perceptron')</td>\n",
       "      <td>0.574257</td>\n",
       "    </tr>\n",
       "    <tr>\n",
       "      <th>24</th>\n",
       "      <td>perceptron</td>\n",
       "      <td>10.000</td>\n",
       "      <td>SGDClassifier(alpha=10.0, loss='perceptron')</td>\n",
       "      <td>0.574257</td>\n",
       "    </tr>\n",
       "  </tbody>\n",
       "</table>\n",
       "</div>"
      ],
      "text/plain": [
       "              Loss   Alpha                                          Model_Fit  \\\n",
       "0              log   0.001             SGDClassifier(alpha=0.001, loss='log')   \n",
       "1              log   0.010              SGDClassifier(alpha=0.01, loss='log')   \n",
       "2              log   0.100               SGDClassifier(alpha=0.1, loss='log')   \n",
       "3              log   1.000               SGDClassifier(alpha=1.0, loss='log')   \n",
       "4              log  10.000              SGDClassifier(alpha=10.0, loss='log')   \n",
       "5            hinge   0.001                         SGDClassifier(alpha=0.001)   \n",
       "6            hinge   0.010                          SGDClassifier(alpha=0.01)   \n",
       "7            hinge   0.100                           SGDClassifier(alpha=0.1)   \n",
       "8            hinge   1.000                           SGDClassifier(alpha=1.0)   \n",
       "9            hinge  10.000                          SGDClassifier(alpha=10.0)   \n",
       "10  modified_huber   0.001  SGDClassifier(alpha=0.001, loss='modified_huber')   \n",
       "11  modified_huber   0.010   SGDClassifier(alpha=0.01, loss='modified_huber')   \n",
       "12  modified_huber   0.100    SGDClassifier(alpha=0.1, loss='modified_huber')   \n",
       "13  modified_huber   1.000    SGDClassifier(alpha=1.0, loss='modified_huber')   \n",
       "14  modified_huber  10.000   SGDClassifier(alpha=10.0, loss='modified_huber')   \n",
       "15   squared_hinge   0.001   SGDClassifier(alpha=0.001, loss='squared_hinge')   \n",
       "16   squared_hinge   0.010    SGDClassifier(alpha=0.01, loss='squared_hinge')   \n",
       "17   squared_hinge   0.100     SGDClassifier(alpha=0.1, loss='squared_hinge')   \n",
       "18   squared_hinge   1.000     SGDClassifier(alpha=1.0, loss='squared_hinge')   \n",
       "19   squared_hinge  10.000    SGDClassifier(alpha=10.0, loss='squared_hinge')   \n",
       "20      perceptron   0.001      SGDClassifier(alpha=0.001, loss='perceptron')   \n",
       "21      perceptron   0.010       SGDClassifier(alpha=0.01, loss='perceptron')   \n",
       "22      perceptron   0.100        SGDClassifier(alpha=0.1, loss='perceptron')   \n",
       "23      perceptron   1.000        SGDClassifier(alpha=1.0, loss='perceptron')   \n",
       "24      perceptron  10.000       SGDClassifier(alpha=10.0, loss='perceptron')   \n",
       "\n",
       "       Score  \n",
       "0   0.938885  \n",
       "1   0.974497  \n",
       "2   0.574257  \n",
       "3   0.574257  \n",
       "4   0.574257  \n",
       "5   0.990062  \n",
       "6   0.943311  \n",
       "7   0.957597  \n",
       "8   0.794148  \n",
       "9   0.574257  \n",
       "10  0.869759  \n",
       "11  0.574257  \n",
       "12  0.574257  \n",
       "13  0.574257  \n",
       "14  0.767940  \n",
       "15  0.971236  \n",
       "16  0.574257  \n",
       "17  0.574257  \n",
       "18  0.574257  \n",
       "19  0.734235  \n",
       "20  0.975623  \n",
       "21  0.574257  \n",
       "22  0.762160  \n",
       "23  0.574257  \n",
       "24  0.574257  "
      ]
     },
     "metadata": {},
     "output_type": "display_data"
    },
    {
     "name": "stdout",
     "output_type": "stream",
     "text": [
      "CPU times: user 2h 28min 7s, sys: 1h 19min 20s, total: 3h 47min 28s\n",
      "Wall time: 5h 10min 27s\n"
     ]
    }
   ],
   "source": [
    "%%time\n",
    "result = []\n",
    "for m in ['log', 'hinge','modified_huber', 'squared_hinge', 'perceptron']:\n",
    "#     clf.loss = m\n",
    "#     print(clf)\n",
    "    for i in [1E-4, 1E-3,1E-2, 1E-1, 1E+0, 1E+1]:\n",
    "#         print(i)\n",
    "#         clf.alpha = i\n",
    "        clf = SGDClassifier(loss=m, alpha=i, penalty=\"l2\", max_iter=1000)\n",
    "        print(clf)\n",
    "        print(\"Fitting\")\n",
    "        clf_Fit = clf.fit(X_train, y_train)\n",
    "        print(\"Scoring\")\n",
    "        clf_Score = clf.score(X_test, y_test)\n",
    "#         print(clf_Score)\n",
    "#         print(\"Predicting\")\n",
    "#         clf_preds = clf.predict(X_test)\n",
    "        print(m, i, clf_Score)\n",
    "        print(\"Appending to Dict\")\n",
    "        result.append({\n",
    "            \"Loss\": m,\n",
    "            'Alpha': i,\n",
    "            'Model_Fit': clf,\n",
    "            'Score': clf_Score,\n",
    "#             'Preds': clf_preds,\n",
    "            })\n",
    "\n",
    "result = pd.DataFrame(result)\n",
    "display(result)  \n",
    "result.to_csv(r'result.csv')\n"
   ]
  },
  {
   "cell_type": "code",
   "execution_count": 52,
   "id": "clean-signature",
   "metadata": {},
   "outputs": [
    {
     "data": {
      "text/html": [
       "<style type=\"text/css\">\n",
       "</style>\n",
       "<table id=\"T_9b7a9_\">\n",
       "  <thead>\n",
       "    <tr>\n",
       "      <th class=\"col_heading level0 col0\" >Loss</th>\n",
       "      <th class=\"col_heading level0 col1\" >Alpha</th>\n",
       "      <th class=\"col_heading level0 col2\" >Model_Fit</th>\n",
       "      <th class=\"col_heading level0 col3\" >Score</th>\n",
       "    </tr>\n",
       "  </thead>\n",
       "  <tbody>\n",
       "    <tr>\n",
       "      <td id=\"T_9b7a9_row0_col0\" class=\"data row0 col0\" >hinge</td>\n",
       "      <td id=\"T_9b7a9_row0_col1\" class=\"data row0 col1\" >0.001000</td>\n",
       "      <td id=\"T_9b7a9_row0_col2\" class=\"data row0 col2\" >SGDClassifier(alpha=0.001)</td>\n",
       "      <td id=\"T_9b7a9_row0_col3\" class=\"data row0 col3\" >0.990062</td>\n",
       "    </tr>\n",
       "    <tr>\n",
       "      <td id=\"T_9b7a9_row1_col0\" class=\"data row1 col0\" >perceptron</td>\n",
       "      <td id=\"T_9b7a9_row1_col1\" class=\"data row1 col1\" >0.001000</td>\n",
       "      <td id=\"T_9b7a9_row1_col2\" class=\"data row1 col2\" >SGDClassifier(alpha=0.001, loss='perceptron')</td>\n",
       "      <td id=\"T_9b7a9_row1_col3\" class=\"data row1 col3\" >0.975623</td>\n",
       "    </tr>\n",
       "    <tr>\n",
       "      <td id=\"T_9b7a9_row2_col0\" class=\"data row2 col0\" >log</td>\n",
       "      <td id=\"T_9b7a9_row2_col1\" class=\"data row2 col1\" >0.010000</td>\n",
       "      <td id=\"T_9b7a9_row2_col2\" class=\"data row2 col2\" >SGDClassifier(alpha=0.01, loss='log')</td>\n",
       "      <td id=\"T_9b7a9_row2_col3\" class=\"data row2 col3\" >0.974497</td>\n",
       "    </tr>\n",
       "    <tr>\n",
       "      <td id=\"T_9b7a9_row3_col0\" class=\"data row3 col0\" >squared_hinge</td>\n",
       "      <td id=\"T_9b7a9_row3_col1\" class=\"data row3 col1\" >0.001000</td>\n",
       "      <td id=\"T_9b7a9_row3_col2\" class=\"data row3 col2\" >SGDClassifier(alpha=0.001, loss='squared_hinge')</td>\n",
       "      <td id=\"T_9b7a9_row3_col3\" class=\"data row3 col3\" >0.971236</td>\n",
       "    </tr>\n",
       "    <tr>\n",
       "      <td id=\"T_9b7a9_row4_col0\" class=\"data row4 col0\" >hinge</td>\n",
       "      <td id=\"T_9b7a9_row4_col1\" class=\"data row4 col1\" >0.100000</td>\n",
       "      <td id=\"T_9b7a9_row4_col2\" class=\"data row4 col2\" >SGDClassifier(alpha=0.1)</td>\n",
       "      <td id=\"T_9b7a9_row4_col3\" class=\"data row4 col3\" >0.957597</td>\n",
       "    </tr>\n",
       "    <tr>\n",
       "      <td id=\"T_9b7a9_row5_col0\" class=\"data row5 col0\" >hinge</td>\n",
       "      <td id=\"T_9b7a9_row5_col1\" class=\"data row5 col1\" >0.010000</td>\n",
       "      <td id=\"T_9b7a9_row5_col2\" class=\"data row5 col2\" >SGDClassifier(alpha=0.01)</td>\n",
       "      <td id=\"T_9b7a9_row5_col3\" class=\"data row5 col3\" >0.943311</td>\n",
       "    </tr>\n",
       "    <tr>\n",
       "      <td id=\"T_9b7a9_row6_col0\" class=\"data row6 col0\" >log</td>\n",
       "      <td id=\"T_9b7a9_row6_col1\" class=\"data row6 col1\" >0.001000</td>\n",
       "      <td id=\"T_9b7a9_row6_col2\" class=\"data row6 col2\" >SGDClassifier(alpha=0.001, loss='log')</td>\n",
       "      <td id=\"T_9b7a9_row6_col3\" class=\"data row6 col3\" >0.938885</td>\n",
       "    </tr>\n",
       "    <tr>\n",
       "      <td id=\"T_9b7a9_row7_col0\" class=\"data row7 col0\" >modified_huber</td>\n",
       "      <td id=\"T_9b7a9_row7_col1\" class=\"data row7 col1\" >0.001000</td>\n",
       "      <td id=\"T_9b7a9_row7_col2\" class=\"data row7 col2\" >SGDClassifier(alpha=0.001, loss='modified_huber')</td>\n",
       "      <td id=\"T_9b7a9_row7_col3\" class=\"data row7 col3\" >0.869759</td>\n",
       "    </tr>\n",
       "  </tbody>\n",
       "</table>\n"
      ],
      "text/plain": [
       "<pandas.io.formats.style.Styler at 0x172373c70>"
      ]
     },
     "execution_count": 52,
     "metadata": {},
     "output_type": "execute_result"
    }
   ],
   "source": [
    "result = result.sort_values(by='Score', ascending=False)\n",
    "result_90 = result.loc[result[\"Score\"]>.80]\n",
    "# result_90 = result_90.drop(['Model_Fit'], axis=1)\n",
    "result_90.style.hide_index()\n",
    "\n"
   ]
  },
  {
   "cell_type": "code",
   "execution_count": 77,
   "id": "military-field",
   "metadata": {},
   "outputs": [
    {
     "data": {
      "text/plain": [
       "SGDClassifier(alpha=0.001, max_iter=10000, n_jobs=-1)"
      ]
     },
     "execution_count": 77,
     "metadata": {},
     "output_type": "execute_result"
    }
   ],
   "source": [
    "clf_Search = SGDClassifier(loss=\"hinge\", n_jobs=-1, alpha=0.001, penalty=\"l2\", max_iter=10000)\n",
    "clf_Search.fit(X_train, y_train)"
   ]
  },
  {
   "cell_type": "code",
   "execution_count": 78,
   "id": "advance-silicon",
   "metadata": {},
   "outputs": [
    {
     "data": {
      "text/plain": [
       "0.734063251058635"
      ]
     },
     "execution_count": 78,
     "metadata": {},
     "output_type": "execute_result"
    }
   ],
   "source": [
    "clf_Search_Score = clf_Search.score(X_test, y_test)\n",
    "clf_Search_Score"
   ]
  },
  {
   "cell_type": "code",
   "execution_count": 79,
   "id": "committed-rainbow",
   "metadata": {},
   "outputs": [],
   "source": [
    "clf_Search_Preds = clf_Search.predict(X_test)"
   ]
  },
  {
   "cell_type": "code",
   "execution_count": 80,
   "id": "classical-danger",
   "metadata": {},
   "outputs": [
    {
     "data": {
      "image/png": "[encoded data removed]",
      "text/plain": [
       "<Figure size 432x288 with 2 Axes>"
      ]
     },
     "metadata": {
      "needs_background": "light"
     },
     "output_type": "display_data"
    }
   ],
   "source": [
    "ax= plt.subplot()\n",
    "\n",
    "cm_CLF = confusion_matrix(y_test, clf_Search_Preds)\n",
    "sns.heatmap(cm_Result_CLF, cmap=\"Blues\", annot=True, fmt='d', ax=ax) # for decimal\n",
    " \n",
    "# labels, title and ticks\n",
    "ax.set_xlabel('Predicted labels');ax.set_ylabel('True labels'); \n",
    "ax.set_title('Confusion Matrix'); \n",
    "ax.xaxis.set_ticklabels(['allow', 'deny', 'drop', 'reset-both']); ax.yaxis.set_ticklabels(['allow', 'deny', 'drop', 'reset-both']);\n",
    "\n"
   ]
  },
  {
   "cell_type": "code",
   "execution_count": 47,
   "id": "animated-electron",
   "metadata": {},
   "outputs": [],
   "source": [
    "### import pickle3\n",
    "# # Save Pickle\n",
    "# with open('random_result', 'wb') as files:\n",
    "#     pickle.dump(random_result, files)"
   ]
  },
  {
   "cell_type": "code",
   "execution_count": 48,
   "id": "virgin-eugene",
   "metadata": {},
   "outputs": [],
   "source": [
    "### %%time\n",
    "# loss = ['hinge', 'log', 'modified_huber', 'squared_hinge', 'perceptron'] \n",
    "# 1\n",
    "# learning_rate = ['constant', 'optimal', 'invscaling', 'adaptive']\n",
    "# eta = [0]\n",
    "\n",
    "# param_distributions = dict(loss=loss, \n",
    "# alpha = alpha,\n",
    "# learning_rate=learning_rate, \n",
    "# eta=eta)\n",
    "# sgd = SGDClassifier(loss=\"hinge\", penalty=\"l2\", max_iter=5) \n",
    "# random = RandomizedSearchCV(estimator=sgd, cv=3,param_distributions=param_distributions, scoring='accuracy', verbose=1, n_jobs=-1) \n",
    "# random_result = random.fit(X_train, y_train) \n",
    "# print('Best Score: ', random_result.best_score_) \n",
    "# print('Best Params: ', random_result.best_params_) "
   ]
  },
  {
   "cell_type": "code",
   "execution_count": null,
   "id": "reverse-cassette",
   "metadata": {},
   "outputs": [],
   "source": []
  }
 ],
 "metadata": {
  "kernelspec": {
   "display_name": "Python 3",
   "language": "python",
   "name": "python3"
  },
  "language_info": {
   "codemirror_mode": {
    "name": "ipython",
    "version": 3
   },
   "file_extension": ".py",
   "mimetype": "text/x-python",
   "name": "python",
   "nbconvert_exporter": "python",
   "pygments_lexer": "ipython3",
   "version": "3.9.2"
  }
 },
 "nbformat": 4,
 "nbformat_minor": 5
}
